{
 "cells": [
  {
   "cell_type": "markdown",
   "metadata": {},
   "source": [
    "## André Callil\n",
    "## Revolut Data Science Assignment"
   ]
  },
  {
   "cell_type": "code",
   "execution_count": 1,
   "metadata": {},
   "outputs": [],
   "source": [
    "# imports\n",
    "import pandas as pd\n",
    "import numpy as np\n",
    "import matplotlib.pyplot as plt\n",
    "%matplotlib inline\n",
    "import xgboost as xgb\n",
    "from sklearn.model_selection import GridSearchCV\n",
    "from sklearn.metrics import mean_squared_error\n"
   ]
  },
  {
   "cell_type": "code",
   "execution_count": 2,
   "metadata": {},
   "outputs": [],
   "source": [
    "# data loading\n",
    "users = pd.read_csv('rev-users.csv', parse_dates=['created_date'])\n",
    "devices = pd.read_csv('rev-devices.csv')\n",
    "notifications = pd.read_csv('rev-notifications.csv', parse_dates=['created_date'])\n",
    "transactions = pd.read_csv('rev-transactions.csv', parse_dates=['created_date'])\n"
   ]
  },
  {
   "cell_type": "markdown",
   "metadata": {},
   "source": [
    "## Exploratory Analysis"
   ]
  },
  {
   "cell_type": "markdown",
   "metadata": {},
   "source": [
    "### Users"
   ]
  },
  {
   "cell_type": "code",
   "execution_count": 3,
   "metadata": {},
   "outputs": [
    {
     "data": {
      "text/html": [
       "<div>\n",
       "<style scoped>\n",
       "    .dataframe tbody tr th:only-of-type {\n",
       "        vertical-align: middle;\n",
       "    }\n",
       "\n",
       "    .dataframe tbody tr th {\n",
       "        vertical-align: top;\n",
       "    }\n",
       "\n",
       "    .dataframe thead th {\n",
       "        text-align: right;\n",
       "    }\n",
       "</style>\n",
       "<table border=\"1\" class=\"dataframe\">\n",
       "  <thead>\n",
       "    <tr style=\"text-align: right;\">\n",
       "      <th></th>\n",
       "      <th>user_id</th>\n",
       "      <th>birth_year</th>\n",
       "      <th>country</th>\n",
       "      <th>city</th>\n",
       "      <th>created_date</th>\n",
       "      <th>user_settings_crypto_unlocked</th>\n",
       "      <th>plan</th>\n",
       "      <th>attributes_notifications_marketing_push</th>\n",
       "      <th>attributes_notifications_marketing_email</th>\n",
       "      <th>num_contacts</th>\n",
       "      <th>num_referrals</th>\n",
       "      <th>num_successful_referrals</th>\n",
       "    </tr>\n",
       "  </thead>\n",
       "  <tbody>\n",
       "    <tr>\n",
       "      <th>0</th>\n",
       "      <td>user_0</td>\n",
       "      <td>1989</td>\n",
       "      <td>PL</td>\n",
       "      <td>Gdansk</td>\n",
       "      <td>2018-01-13 05:15:15.599466</td>\n",
       "      <td>1</td>\n",
       "      <td>STANDARD</td>\n",
       "      <td>1.0</td>\n",
       "      <td>1.0</td>\n",
       "      <td>3</td>\n",
       "      <td>0</td>\n",
       "      <td>0</td>\n",
       "    </tr>\n",
       "    <tr>\n",
       "      <th>1</th>\n",
       "      <td>user_1</td>\n",
       "      <td>1975</td>\n",
       "      <td>GB</td>\n",
       "      <td>London</td>\n",
       "      <td>2018-01-29 03:38:46.676876</td>\n",
       "      <td>0</td>\n",
       "      <td>STANDARD</td>\n",
       "      <td>NaN</td>\n",
       "      <td>NaN</td>\n",
       "      <td>21</td>\n",
       "      <td>0</td>\n",
       "      <td>0</td>\n",
       "    </tr>\n",
       "    <tr>\n",
       "      <th>2</th>\n",
       "      <td>user_2</td>\n",
       "      <td>1987</td>\n",
       "      <td>PL</td>\n",
       "      <td>Poznań</td>\n",
       "      <td>2018-01-18 19:17:31.229096</td>\n",
       "      <td>0</td>\n",
       "      <td>STANDARD</td>\n",
       "      <td>0.0</td>\n",
       "      <td>0.0</td>\n",
       "      <td>21</td>\n",
       "      <td>0</td>\n",
       "      <td>0</td>\n",
       "    </tr>\n",
       "    <tr>\n",
       "      <th>3</th>\n",
       "      <td>user_3</td>\n",
       "      <td>1994</td>\n",
       "      <td>FR</td>\n",
       "      <td>Paris</td>\n",
       "      <td>2018-01-15 18:47:56.723104</td>\n",
       "      <td>0</td>\n",
       "      <td>STANDARD</td>\n",
       "      <td>1.0</td>\n",
       "      <td>0.0</td>\n",
       "      <td>0</td>\n",
       "      <td>0</td>\n",
       "      <td>0</td>\n",
       "    </tr>\n",
       "    <tr>\n",
       "      <th>4</th>\n",
       "      <td>user_4</td>\n",
       "      <td>1985</td>\n",
       "      <td>GB</td>\n",
       "      <td>Beckenham</td>\n",
       "      <td>2018-01-11 00:36:46.673673</td>\n",
       "      <td>0</td>\n",
       "      <td>STANDARD</td>\n",
       "      <td>NaN</td>\n",
       "      <td>NaN</td>\n",
       "      <td>2</td>\n",
       "      <td>0</td>\n",
       "      <td>0</td>\n",
       "    </tr>\n",
       "  </tbody>\n",
       "</table>\n",
       "</div>"
      ],
      "text/plain": [
       "  user_id  birth_year country       city               created_date  \\\n",
       "0  user_0        1989      PL     Gdansk 2018-01-13 05:15:15.599466   \n",
       "1  user_1        1975      GB     London 2018-01-29 03:38:46.676876   \n",
       "2  user_2        1987      PL     Poznań 2018-01-18 19:17:31.229096   \n",
       "3  user_3        1994      FR      Paris 2018-01-15 18:47:56.723104   \n",
       "4  user_4        1985      GB  Beckenham 2018-01-11 00:36:46.673673   \n",
       "\n",
       "   user_settings_crypto_unlocked      plan  \\\n",
       "0                              1  STANDARD   \n",
       "1                              0  STANDARD   \n",
       "2                              0  STANDARD   \n",
       "3                              0  STANDARD   \n",
       "4                              0  STANDARD   \n",
       "\n",
       "   attributes_notifications_marketing_push  \\\n",
       "0                                      1.0   \n",
       "1                                      NaN   \n",
       "2                                      0.0   \n",
       "3                                      1.0   \n",
       "4                                      NaN   \n",
       "\n",
       "   attributes_notifications_marketing_email  num_contacts  num_referrals  \\\n",
       "0                                       1.0             3              0   \n",
       "1                                       NaN            21              0   \n",
       "2                                       0.0            21              0   \n",
       "3                                       0.0             0              0   \n",
       "4                                       NaN             2              0   \n",
       "\n",
       "   num_successful_referrals  \n",
       "0                         0  \n",
       "1                         0  \n",
       "2                         0  \n",
       "3                         0  \n",
       "4                         0  "
      ]
     },
     "execution_count": 3,
     "metadata": {},
     "output_type": "execute_result"
    }
   ],
   "source": [
    "users.head()\n"
   ]
  },
  {
   "cell_type": "code",
   "execution_count": 4,
   "metadata": {},
   "outputs": [
    {
     "data": {
      "text/plain": [
       "user_id                                             object\n",
       "birth_year                                           int64\n",
       "country                                             object\n",
       "city                                                object\n",
       "created_date                                datetime64[ns]\n",
       "user_settings_crypto_unlocked                        int64\n",
       "plan                                                object\n",
       "attributes_notifications_marketing_push            float64\n",
       "attributes_notifications_marketing_email           float64\n",
       "num_contacts                                         int64\n",
       "num_referrals                                        int64\n",
       "num_successful_referrals                             int64\n",
       "dtype: object"
      ]
     },
     "execution_count": 4,
     "metadata": {},
     "output_type": "execute_result"
    }
   ],
   "source": [
    "users.dtypes\n"
   ]
  },
  {
   "cell_type": "code",
   "execution_count": 5,
   "metadata": {},
   "outputs": [
    {
     "data": {
      "text/plain": [
       "user_id                                     19430\n",
       "birth_year                                     69\n",
       "country                                        41\n",
       "city                                         6049\n",
       "created_date                                19430\n",
       "user_settings_crypto_unlocked                   2\n",
       "plan                                            6\n",
       "attributes_notifications_marketing_push         2\n",
       "attributes_notifications_marketing_email        2\n",
       "num_contacts                                  302\n",
       "num_referrals                                   1\n",
       "num_successful_referrals                        1\n",
       "dtype: int64"
      ]
     },
     "execution_count": 5,
     "metadata": {},
     "output_type": "execute_result"
    }
   ],
   "source": [
    "# unique values on dataframe\n",
    "users.nunique()\n"
   ]
  },
  {
   "cell_type": "code",
   "execution_count": 6,
   "metadata": {},
   "outputs": [
    {
     "data": {
      "text/html": [
       "<div>\n",
       "<style scoped>\n",
       "    .dataframe tbody tr th:only-of-type {\n",
       "        vertical-align: middle;\n",
       "    }\n",
       "\n",
       "    .dataframe tbody tr th {\n",
       "        vertical-align: top;\n",
       "    }\n",
       "\n",
       "    .dataframe thead th {\n",
       "        text-align: right;\n",
       "    }\n",
       "</style>\n",
       "<table border=\"1\" class=\"dataframe\">\n",
       "  <thead>\n",
       "    <tr style=\"text-align: right;\">\n",
       "      <th></th>\n",
       "      <th>birth_year</th>\n",
       "      <th>user_settings_crypto_unlocked</th>\n",
       "      <th>attributes_notifications_marketing_push</th>\n",
       "      <th>attributes_notifications_marketing_email</th>\n",
       "      <th>num_contacts</th>\n",
       "      <th>num_referrals</th>\n",
       "      <th>num_successful_referrals</th>\n",
       "    </tr>\n",
       "  </thead>\n",
       "  <tbody>\n",
       "    <tr>\n",
       "      <th>count</th>\n",
       "      <td>19430.000000</td>\n",
       "      <td>19430.000000</td>\n",
       "      <td>12820.000000</td>\n",
       "      <td>12820.000000</td>\n",
       "      <td>19430.000000</td>\n",
       "      <td>19430.0</td>\n",
       "      <td>19430.0</td>\n",
       "    </tr>\n",
       "    <tr>\n",
       "      <th>mean</th>\n",
       "      <td>1983.648636</td>\n",
       "      <td>0.181009</td>\n",
       "      <td>0.947582</td>\n",
       "      <td>0.895944</td>\n",
       "      <td>17.887699</td>\n",
       "      <td>0.0</td>\n",
       "      <td>0.0</td>\n",
       "    </tr>\n",
       "    <tr>\n",
       "      <th>std</th>\n",
       "      <td>11.368871</td>\n",
       "      <td>0.385035</td>\n",
       "      <td>0.222877</td>\n",
       "      <td>0.305345</td>\n",
       "      <td>46.506438</td>\n",
       "      <td>0.0</td>\n",
       "      <td>0.0</td>\n",
       "    </tr>\n",
       "    <tr>\n",
       "      <th>min</th>\n",
       "      <td>1929.000000</td>\n",
       "      <td>0.000000</td>\n",
       "      <td>0.000000</td>\n",
       "      <td>0.000000</td>\n",
       "      <td>0.000000</td>\n",
       "      <td>0.0</td>\n",
       "      <td>0.0</td>\n",
       "    </tr>\n",
       "    <tr>\n",
       "      <th>25%</th>\n",
       "      <td>1978.000000</td>\n",
       "      <td>0.000000</td>\n",
       "      <td>1.000000</td>\n",
       "      <td>1.000000</td>\n",
       "      <td>0.000000</td>\n",
       "      <td>0.0</td>\n",
       "      <td>0.0</td>\n",
       "    </tr>\n",
       "    <tr>\n",
       "      <th>50%</th>\n",
       "      <td>1986.000000</td>\n",
       "      <td>0.000000</td>\n",
       "      <td>1.000000</td>\n",
       "      <td>1.000000</td>\n",
       "      <td>5.000000</td>\n",
       "      <td>0.0</td>\n",
       "      <td>0.0</td>\n",
       "    </tr>\n",
       "    <tr>\n",
       "      <th>75%</th>\n",
       "      <td>1992.000000</td>\n",
       "      <td>0.000000</td>\n",
       "      <td>1.000000</td>\n",
       "      <td>1.000000</td>\n",
       "      <td>19.000000</td>\n",
       "      <td>0.0</td>\n",
       "      <td>0.0</td>\n",
       "    </tr>\n",
       "    <tr>\n",
       "      <th>max</th>\n",
       "      <td>2001.000000</td>\n",
       "      <td>1.000000</td>\n",
       "      <td>1.000000</td>\n",
       "      <td>1.000000</td>\n",
       "      <td>2918.000000</td>\n",
       "      <td>0.0</td>\n",
       "      <td>0.0</td>\n",
       "    </tr>\n",
       "  </tbody>\n",
       "</table>\n",
       "</div>"
      ],
      "text/plain": [
       "         birth_year  user_settings_crypto_unlocked  \\\n",
       "count  19430.000000                   19430.000000   \n",
       "mean    1983.648636                       0.181009   \n",
       "std       11.368871                       0.385035   \n",
       "min     1929.000000                       0.000000   \n",
       "25%     1978.000000                       0.000000   \n",
       "50%     1986.000000                       0.000000   \n",
       "75%     1992.000000                       0.000000   \n",
       "max     2001.000000                       1.000000   \n",
       "\n",
       "       attributes_notifications_marketing_push  \\\n",
       "count                             12820.000000   \n",
       "mean                                  0.947582   \n",
       "std                                   0.222877   \n",
       "min                                   0.000000   \n",
       "25%                                   1.000000   \n",
       "50%                                   1.000000   \n",
       "75%                                   1.000000   \n",
       "max                                   1.000000   \n",
       "\n",
       "       attributes_notifications_marketing_email  num_contacts  num_referrals  \\\n",
       "count                              12820.000000  19430.000000        19430.0   \n",
       "mean                                   0.895944     17.887699            0.0   \n",
       "std                                    0.305345     46.506438            0.0   \n",
       "min                                    0.000000      0.000000            0.0   \n",
       "25%                                    1.000000      0.000000            0.0   \n",
       "50%                                    1.000000      5.000000            0.0   \n",
       "75%                                    1.000000     19.000000            0.0   \n",
       "max                                    1.000000   2918.000000            0.0   \n",
       "\n",
       "       num_successful_referrals  \n",
       "count                   19430.0  \n",
       "mean                        0.0  \n",
       "std                         0.0  \n",
       "min                         0.0  \n",
       "25%                         0.0  \n",
       "50%                         0.0  \n",
       "75%                         0.0  \n",
       "max                         0.0  "
      ]
     },
     "execution_count": 6,
     "metadata": {},
     "output_type": "execute_result"
    }
   ],
   "source": [
    "# users summary\n",
    "users.describe()\n"
   ]
  },
  {
   "cell_type": "code",
   "execution_count": 7,
   "metadata": {
    "scrolled": true
   },
   "outputs": [
    {
     "data": {
      "text/plain": [
       "GB    6315\n",
       "PL    2306\n",
       "FR    2110\n",
       "IE    1214\n",
       "RO    1096\n",
       "ES     991\n",
       "LT     646\n",
       "PT     604\n",
       "MT     548\n",
       "DE     446\n",
       "CH     443\n",
       "CZ     355\n",
       "IT     311\n",
       "GR     218\n",
       "CY     191\n",
       "NL     174\n",
       "LV     171\n",
       "HU     157\n",
       "BE     143\n",
       "SE     141\n",
       "DK     101\n",
       "BG      94\n",
       "SI      87\n",
       "NO      87\n",
       "SK      79\n",
       "AT      78\n",
       "HR      63\n",
       "JE      55\n",
       "GI      44\n",
       "FI      38\n",
       "EE      35\n",
       "LU      24\n",
       "GG      15\n",
       "IM      11\n",
       "GP      10\n",
       "RE       7\n",
       "IS       7\n",
       "AU       6\n",
       "LI       4\n",
       "MQ       4\n",
       "GF       1\n",
       "Name: country, dtype: int64"
      ]
     },
     "execution_count": 7,
     "metadata": {},
     "output_type": "execute_result"
    }
   ],
   "source": [
    "# users per country\n",
    "users.country.value_counts()\n"
   ]
  },
  {
   "cell_type": "code",
   "execution_count": 8,
   "metadata": {},
   "outputs": [
    {
     "data": {
      "text/plain": [
       "STANDARD         17992\n",
       "PREMIUM            865\n",
       "METAL              507\n",
       "METAL_FREE          37\n",
       "PREMIUM_OFFER       25\n",
       "PREMIUM_FREE         4\n",
       "Name: plan, dtype: int64"
      ]
     },
     "execution_count": 8,
     "metadata": {},
     "output_type": "execute_result"
    }
   ],
   "source": [
    "# users per plan\n",
    "users.plan.value_counts()\n"
   ]
  },
  {
   "cell_type": "code",
   "execution_count": 9,
   "metadata": {},
   "outputs": [
    {
     "data": {
      "image/png": "[encoded data removed]",
      "text/plain": [
       "<Figure size 432x288 with 1 Axes>"
      ]
     },
     "metadata": {
      "needs_background": "light"
     },
     "output_type": "display_data"
    }
   ],
   "source": [
    "# users per plan chart\n",
    "fig, ax = plt.subplots()\n",
    "users['plan'].value_counts().plot(ax=ax, kind='bar')\n",
    "plt.show()\n"
   ]
  },
  {
   "cell_type": "code",
   "execution_count": 10,
   "metadata": {
    "scrolled": true
   },
   "outputs": [
    {
     "data": {
      "text/plain": [
       "0       6970\n",
       "2        679\n",
       "1        665\n",
       "3        662\n",
       "4        622\n",
       "5        543\n",
       "6        500\n",
       "7        469\n",
       "8        433\n",
       "9        409\n",
       "10       353\n",
       "11       340\n",
       "12       334\n",
       "14       297\n",
       "13       295\n",
       "15       253\n",
       "19       226\n",
       "16       226\n",
       "17       209\n",
       "18       199\n",
       "20       184\n",
       "23       177\n",
       "22       170\n",
       "25       153\n",
       "24       144\n",
       "21       140\n",
       "26       124\n",
       "28       123\n",
       "27       121\n",
       "29       118\n",
       "        ... \n",
       "291        1\n",
       "419        1\n",
       "435        1\n",
       "563        1\n",
       "196        1\n",
       "212        1\n",
       "244        1\n",
       "276        1\n",
       "404        1\n",
       "420        1\n",
       "1262       1\n",
       "670        1\n",
       "414        1\n",
       "165        1\n",
       "197        1\n",
       "229        1\n",
       "357        1\n",
       "549        1\n",
       "286        1\n",
       "238        1\n",
       "246        1\n",
       "262        1\n",
       "278        1\n",
       "726        1\n",
       "222        1\n",
       "151        1\n",
       "199        1\n",
       "231        1\n",
       "807        1\n",
       "1071       1\n",
       "Name: num_contacts, Length: 302, dtype: int64"
      ]
     },
     "execution_count": 10,
     "metadata": {},
     "output_type": "execute_result"
    }
   ],
   "source": [
    "# amount of contacts per user\n",
    "users.num_contacts.value_counts()\n"
   ]
  },
  {
   "cell_type": "code",
   "execution_count": 11,
   "metadata": {},
   "outputs": [],
   "source": [
    "# data from 19430 different users \n",
    "# gb dominates as main country (32%), follow by poland and france\n",
    "# users are spread in 41 different countries in 6049 different cities\n",
    "# standard plan accounts for 93% of users\n",
    "# avg birth year is 1983 (36 years old), std=11 (68% are btw 25-47 years old)\n",
    "# only about 18% of users have unlocked crypto\n",
    "# in regards to notifications, only 12820 users have known data out of 19430\n",
    "# about 95% of users with data available (12820/19430) have marketing notifications on phone\n",
    "# about 90% of users with data available (12820/19430) have marketing notifications on email\n",
    "# avg number of contacts each user have is 18, with a max of 2918 and 6970 having 0 contacts\n",
    "# referrals is not useful information since it's all 0's\n"
   ]
  },
  {
   "cell_type": "markdown",
   "metadata": {},
   "source": [
    "### Devices"
   ]
  },
  {
   "cell_type": "code",
   "execution_count": 12,
   "metadata": {},
   "outputs": [
    {
     "data": {
      "text/html": [
       "<div>\n",
       "<style scoped>\n",
       "    .dataframe tbody tr th:only-of-type {\n",
       "        vertical-align: middle;\n",
       "    }\n",
       "\n",
       "    .dataframe tbody tr th {\n",
       "        vertical-align: top;\n",
       "    }\n",
       "\n",
       "    .dataframe thead th {\n",
       "        text-align: right;\n",
       "    }\n",
       "</style>\n",
       "<table border=\"1\" class=\"dataframe\">\n",
       "  <thead>\n",
       "    <tr style=\"text-align: right;\">\n",
       "      <th></th>\n",
       "      <th>brand</th>\n",
       "      <th>user_id</th>\n",
       "    </tr>\n",
       "  </thead>\n",
       "  <tbody>\n",
       "    <tr>\n",
       "      <th>0</th>\n",
       "      <td>Android</td>\n",
       "      <td>user_3257</td>\n",
       "    </tr>\n",
       "    <tr>\n",
       "      <th>1</th>\n",
       "      <td>Apple</td>\n",
       "      <td>user_6809</td>\n",
       "    </tr>\n",
       "    <tr>\n",
       "      <th>2</th>\n",
       "      <td>Android</td>\n",
       "      <td>user_9144</td>\n",
       "    </tr>\n",
       "    <tr>\n",
       "      <th>3</th>\n",
       "      <td>Apple</td>\n",
       "      <td>user_3636</td>\n",
       "    </tr>\n",
       "    <tr>\n",
       "      <th>4</th>\n",
       "      <td>Android</td>\n",
       "      <td>user_5970</td>\n",
       "    </tr>\n",
       "  </tbody>\n",
       "</table>\n",
       "</div>"
      ],
      "text/plain": [
       "     brand    user_id\n",
       "0  Android  user_3257\n",
       "1    Apple  user_6809\n",
       "2  Android  user_9144\n",
       "3    Apple  user_3636\n",
       "4  Android  user_5970"
      ]
     },
     "execution_count": 12,
     "metadata": {},
     "output_type": "execute_result"
    }
   ],
   "source": [
    "devices.head()\n"
   ]
  },
  {
   "cell_type": "code",
   "execution_count": 13,
   "metadata": {
    "scrolled": true
   },
   "outputs": [
    {
     "data": {
      "text/plain": [
       "Android    9714\n",
       "Apple      9673\n",
       "Unknown      43\n",
       "Name: brand, dtype: int64"
      ]
     },
     "execution_count": 13,
     "metadata": {},
     "output_type": "execute_result"
    }
   ],
   "source": [
    "# amount of users using android, apple and other devices\n",
    "devices.brand.value_counts()\n"
   ]
  },
  {
   "cell_type": "code",
   "execution_count": 14,
   "metadata": {
    "scrolled": true
   },
   "outputs": [
    {
     "data": {
      "image/png": "[encoded data removed]",
      "text/plain": [
       "<Figure size 432x288 with 1 Axes>"
      ]
     },
     "metadata": {
      "needs_background": "light"
     },
     "output_type": "display_data"
    }
   ],
   "source": [
    "# amount of users using android, apple and other devices chart\n",
    "fig, ax = plt.subplots()\n",
    "devices['brand'].value_counts().plot(ax=ax, kind='bar')\n",
    "plt.show()\n"
   ]
  },
  {
   "cell_type": "markdown",
   "metadata": {},
   "source": [
    "### Notifications"
   ]
  },
  {
   "cell_type": "code",
   "execution_count": 15,
   "metadata": {},
   "outputs": [
    {
     "data": {
      "text/html": [
       "<div>\n",
       "<style scoped>\n",
       "    .dataframe tbody tr th:only-of-type {\n",
       "        vertical-align: middle;\n",
       "    }\n",
       "\n",
       "    .dataframe tbody tr th {\n",
       "        vertical-align: top;\n",
       "    }\n",
       "\n",
       "    .dataframe thead th {\n",
       "        text-align: right;\n",
       "    }\n",
       "</style>\n",
       "<table border=\"1\" class=\"dataframe\">\n",
       "  <thead>\n",
       "    <tr style=\"text-align: right;\">\n",
       "      <th></th>\n",
       "      <th>reason</th>\n",
       "      <th>channel</th>\n",
       "      <th>status</th>\n",
       "      <th>user_id</th>\n",
       "      <th>created_date</th>\n",
       "    </tr>\n",
       "  </thead>\n",
       "  <tbody>\n",
       "    <tr>\n",
       "      <th>0</th>\n",
       "      <td>REENGAGEMENT_ACTIVE_FUNDS</td>\n",
       "      <td>PUSH</td>\n",
       "      <td>SENT</td>\n",
       "      <td>user_7086</td>\n",
       "      <td>2018-12-02 17:58:33.320645</td>\n",
       "    </tr>\n",
       "    <tr>\n",
       "      <th>1</th>\n",
       "      <td>REENGAGEMENT_ACTIVE_FUNDS</td>\n",
       "      <td>PUSH</td>\n",
       "      <td>SENT</td>\n",
       "      <td>user_6598</td>\n",
       "      <td>2018-12-01 23:09:37.367127</td>\n",
       "    </tr>\n",
       "    <tr>\n",
       "      <th>2</th>\n",
       "      <td>REENGAGEMENT_ACTIVE_FUNDS</td>\n",
       "      <td>PUSH</td>\n",
       "      <td>SENT</td>\n",
       "      <td>user_4151</td>\n",
       "      <td>2018-12-04 02:57:56.425660</td>\n",
       "    </tr>\n",
       "    <tr>\n",
       "      <th>3</th>\n",
       "      <td>REENGAGEMENT_ACTIVE_FUNDS</td>\n",
       "      <td>PUSH</td>\n",
       "      <td>SENT</td>\n",
       "      <td>user_1408</td>\n",
       "      <td>2018-12-11 02:04:46.284683</td>\n",
       "    </tr>\n",
       "    <tr>\n",
       "      <th>4</th>\n",
       "      <td>REENGAGEMENT_ACTIVE_FUNDS</td>\n",
       "      <td>PUSH</td>\n",
       "      <td>SENT</td>\n",
       "      <td>user_6292</td>\n",
       "      <td>2018-12-14 17:09:58.900808</td>\n",
       "    </tr>\n",
       "  </tbody>\n",
       "</table>\n",
       "</div>"
      ],
      "text/plain": [
       "                      reason channel status    user_id  \\\n",
       "0  REENGAGEMENT_ACTIVE_FUNDS    PUSH   SENT  user_7086   \n",
       "1  REENGAGEMENT_ACTIVE_FUNDS    PUSH   SENT  user_6598   \n",
       "2  REENGAGEMENT_ACTIVE_FUNDS    PUSH   SENT  user_4151   \n",
       "3  REENGAGEMENT_ACTIVE_FUNDS    PUSH   SENT  user_1408   \n",
       "4  REENGAGEMENT_ACTIVE_FUNDS    PUSH   SENT  user_6292   \n",
       "\n",
       "                created_date  \n",
       "0 2018-12-02 17:58:33.320645  \n",
       "1 2018-12-01 23:09:37.367127  \n",
       "2 2018-12-04 02:57:56.425660  \n",
       "3 2018-12-11 02:04:46.284683  \n",
       "4 2018-12-14 17:09:58.900808  "
      ]
     },
     "execution_count": 15,
     "metadata": {},
     "output_type": "execute_result"
    }
   ],
   "source": [
    "notifications.head()\n"
   ]
  },
  {
   "cell_type": "code",
   "execution_count": 16,
   "metadata": {},
   "outputs": [
    {
     "data": {
      "text/html": [
       "<div>\n",
       "<style scoped>\n",
       "    .dataframe tbody tr th:only-of-type {\n",
       "        vertical-align: middle;\n",
       "    }\n",
       "\n",
       "    .dataframe tbody tr th {\n",
       "        vertical-align: top;\n",
       "    }\n",
       "\n",
       "    .dataframe thead th {\n",
       "        text-align: right;\n",
       "    }\n",
       "</style>\n",
       "<table border=\"1\" class=\"dataframe\">\n",
       "  <thead>\n",
       "    <tr style=\"text-align: right;\">\n",
       "      <th></th>\n",
       "      <th>reason</th>\n",
       "      <th>channel</th>\n",
       "      <th>status</th>\n",
       "      <th>user_id</th>\n",
       "      <th>created_date</th>\n",
       "    </tr>\n",
       "  </thead>\n",
       "  <tbody>\n",
       "    <tr>\n",
       "      <th>count</th>\n",
       "      <td>121813</td>\n",
       "      <td>121813</td>\n",
       "      <td>121813</td>\n",
       "      <td>121813</td>\n",
       "      <td>121813</td>\n",
       "    </tr>\n",
       "    <tr>\n",
       "      <th>unique</th>\n",
       "      <td>17</td>\n",
       "      <td>3</td>\n",
       "      <td>2</td>\n",
       "      <td>18953</td>\n",
       "      <td>121810</td>\n",
       "    </tr>\n",
       "    <tr>\n",
       "      <th>top</th>\n",
       "      <td>REENGAGEMENT_ACTIVE_FUNDS</td>\n",
       "      <td>EMAIL</td>\n",
       "      <td>SENT</td>\n",
       "      <td>user_5133</td>\n",
       "      <td>2018-07-15 16:27:12.192706</td>\n",
       "    </tr>\n",
       "    <tr>\n",
       "      <th>freq</th>\n",
       "      <td>35844</td>\n",
       "      <td>61253</td>\n",
       "      <td>89477</td>\n",
       "      <td>289</td>\n",
       "      <td>2</td>\n",
       "    </tr>\n",
       "    <tr>\n",
       "      <th>first</th>\n",
       "      <td>NaN</td>\n",
       "      <td>NaN</td>\n",
       "      <td>NaN</td>\n",
       "      <td>NaN</td>\n",
       "      <td>2018-01-10 12:09:55.050139</td>\n",
       "    </tr>\n",
       "    <tr>\n",
       "      <th>last</th>\n",
       "      <td>NaN</td>\n",
       "      <td>NaN</td>\n",
       "      <td>NaN</td>\n",
       "      <td>NaN</td>\n",
       "      <td>2019-05-12 17:12:14.132130</td>\n",
       "    </tr>\n",
       "  </tbody>\n",
       "</table>\n",
       "</div>"
      ],
      "text/plain": [
       "                           reason channel  status    user_id  \\\n",
       "count                      121813  121813  121813     121813   \n",
       "unique                         17       3       2      18953   \n",
       "top     REENGAGEMENT_ACTIVE_FUNDS   EMAIL    SENT  user_5133   \n",
       "freq                        35844   61253   89477        289   \n",
       "first                         NaN     NaN     NaN        NaN   \n",
       "last                          NaN     NaN     NaN        NaN   \n",
       "\n",
       "                      created_date  \n",
       "count                       121813  \n",
       "unique                      121810  \n",
       "top     2018-07-15 16:27:12.192706  \n",
       "freq                             2  \n",
       "first   2018-01-10 12:09:55.050139  \n",
       "last    2019-05-12 17:12:14.132130  "
      ]
     },
     "execution_count": 16,
     "metadata": {},
     "output_type": "execute_result"
    }
   ],
   "source": [
    "# notifications summary\n",
    "notifications.describe()\n"
   ]
  },
  {
   "cell_type": "code",
   "execution_count": 17,
   "metadata": {},
   "outputs": [
    {
     "data": {
      "text/plain": [
       "REENGAGEMENT_ACTIVE_FUNDS               35844\n",
       "FIFTH_PAYMENT_PROMO                     23743\n",
       "NO_INITIAL_CARD_USE                     11221\n",
       "NO_INITIAL_CARD_ORDER                   11136\n",
       "METAL_GAME_START                         8373\n",
       "LOST_CARD_ORDER                          6146\n",
       "NO_INITIAL_FREE_PROMOPAGE_CARD_ORDER     5459\n",
       "JOINING_ANNIVERSARY                      4158\n",
       "MADE_MONEY_REQUEST_NOT_SPLIT_BILL        3506\n",
       "ONBOARDING_TIPS_ACTIVATED_USERS          3145\n",
       "ENGAGEMENT_SPLIT_BILL_RESTAURANT         2298\n",
       "BLACK_FRIDAY                             2109\n",
       "METAL_RESERVE_PLAN                       1233\n",
       "PREMIUM_ENGAGEMENT_INACTIVE_CARD         1124\n",
       "WELCOME_HOME                              950\n",
       "PUMPKIN_PAYMENT_NOTIFICATION              690\n",
       "PREMIUM_ENGAGEMENT_FEES_SAVED             678\n",
       "Name: reason, dtype: int64"
      ]
     },
     "execution_count": 17,
     "metadata": {},
     "output_type": "execute_result"
    }
   ],
   "source": [
    "# frequency of notification types\n",
    "notifications['reason'].value_counts()\n"
   ]
  },
  {
   "cell_type": "code",
   "execution_count": 18,
   "metadata": {},
   "outputs": [
    {
     "data": {
      "image/png": "[encoded data removed]",
      "text/plain": [
       "<Figure size 432x288 with 1 Axes>"
      ]
     },
     "metadata": {
      "needs_background": "light"
     },
     "output_type": "display_data"
    }
   ],
   "source": [
    "# frequency of notification types chart\n",
    "fig, ax = plt.subplots()\n",
    "notifications['reason'].value_counts().plot(ax=ax, kind='bar')\n",
    "plt.show()\n"
   ]
  },
  {
   "cell_type": "code",
   "execution_count": 19,
   "metadata": {},
   "outputs": [
    {
     "data": {
      "text/plain": [
       "user_5133     289\n",
       "user_1047     177\n",
       "user_8941     129\n",
       "user_11007     88\n",
       "user_13699     80\n",
       "Name: user_id, dtype: int64"
      ]
     },
     "execution_count": 19,
     "metadata": {},
     "output_type": "execute_result"
    }
   ],
   "source": [
    "# notifications per user\n",
    "users_nf = notifications['user_id'].value_counts()\n",
    "users_nf.head()\n"
   ]
  },
  {
   "cell_type": "code",
   "execution_count": 20,
   "metadata": {},
   "outputs": [
    {
     "data": {
      "text/plain": [
       "count    18953.000000\n",
       "mean         6.427109\n",
       "std          4.815286\n",
       "min          1.000000\n",
       "25%          4.000000\n",
       "50%          6.000000\n",
       "75%          8.000000\n",
       "max        289.000000\n",
       "Name: user_id, dtype: float64"
      ]
     },
     "execution_count": 20,
     "metadata": {},
     "output_type": "execute_result"
    }
   ],
   "source": [
    "# notifications per user summary\n",
    "users_nf.describe()\n"
   ]
  },
  {
   "cell_type": "code",
   "execution_count": 21,
   "metadata": {},
   "outputs": [],
   "source": [
    "# REENGAGEMENT_ACTIVE_FUNDS dominates as most received notification\n",
    "# users avg 6 notifications, sd of 5 (68% of users from 1-11 notifications)\n",
    "# find a way to plot distribution of notifications form users\n"
   ]
  },
  {
   "cell_type": "markdown",
   "metadata": {},
   "source": [
    "### Transactions"
   ]
  },
  {
   "cell_type": "code",
   "execution_count": 22,
   "metadata": {},
   "outputs": [
    {
     "data": {
      "text/html": [
       "<div>\n",
       "<style scoped>\n",
       "    .dataframe tbody tr th:only-of-type {\n",
       "        vertical-align: middle;\n",
       "    }\n",
       "\n",
       "    .dataframe tbody tr th {\n",
       "        vertical-align: top;\n",
       "    }\n",
       "\n",
       "    .dataframe thead th {\n",
       "        text-align: right;\n",
       "    }\n",
       "</style>\n",
       "<table border=\"1\" class=\"dataframe\">\n",
       "  <thead>\n",
       "    <tr style=\"text-align: right;\">\n",
       "      <th></th>\n",
       "      <th>transaction_id</th>\n",
       "      <th>transactions_type</th>\n",
       "      <th>transactions_currency</th>\n",
       "      <th>amount_usd</th>\n",
       "      <th>transactions_state</th>\n",
       "      <th>ea_cardholderpresence</th>\n",
       "      <th>ea_merchant_mcc</th>\n",
       "      <th>ea_merchant_city</th>\n",
       "      <th>ea_merchant_country</th>\n",
       "      <th>direction</th>\n",
       "      <th>user_id</th>\n",
       "      <th>created_date</th>\n",
       "    </tr>\n",
       "  </thead>\n",
       "  <tbody>\n",
       "    <tr>\n",
       "      <th>0</th>\n",
       "      <td>transaction_0</td>\n",
       "      <td>TRANSFER</td>\n",
       "      <td>AED</td>\n",
       "      <td>4.55</td>\n",
       "      <td>COMPLETED</td>\n",
       "      <td>NaN</td>\n",
       "      <td>NaN</td>\n",
       "      <td>NaN</td>\n",
       "      <td>NaN</td>\n",
       "      <td>OUTBOUND</td>\n",
       "      <td>user_898</td>\n",
       "      <td>2018-04-03 03:34:21.784487</td>\n",
       "    </tr>\n",
       "    <tr>\n",
       "      <th>1</th>\n",
       "      <td>transaction_1</td>\n",
       "      <td>CARD_PAYMENT</td>\n",
       "      <td>AED</td>\n",
       "      <td>15.50</td>\n",
       "      <td>COMPLETED</td>\n",
       "      <td>FALSE</td>\n",
       "      <td>4111.0</td>\n",
       "      <td>Dubai</td>\n",
       "      <td>ARE</td>\n",
       "      <td>OUTBOUND</td>\n",
       "      <td>user_1652</td>\n",
       "      <td>2019-03-19 06:15:59.537032</td>\n",
       "    </tr>\n",
       "    <tr>\n",
       "      <th>2</th>\n",
       "      <td>transaction_2</td>\n",
       "      <td>CARD_PAYMENT</td>\n",
       "      <td>AED</td>\n",
       "      <td>43.40</td>\n",
       "      <td>COMPLETED</td>\n",
       "      <td>FALSE</td>\n",
       "      <td>5814.0</td>\n",
       "      <td>Dubai</td>\n",
       "      <td>ARE</td>\n",
       "      <td>OUTBOUND</td>\n",
       "      <td>user_1652</td>\n",
       "      <td>2019-03-18 18:53:41.323032</td>\n",
       "    </tr>\n",
       "    <tr>\n",
       "      <th>3</th>\n",
       "      <td>transaction_3</td>\n",
       "      <td>TRANSFER</td>\n",
       "      <td>AED</td>\n",
       "      <td>10043.01</td>\n",
       "      <td>COMPLETED</td>\n",
       "      <td>NaN</td>\n",
       "      <td>NaN</td>\n",
       "      <td>NaN</td>\n",
       "      <td>NaN</td>\n",
       "      <td>OUTBOUND</td>\n",
       "      <td>user_1652</td>\n",
       "      <td>2019-03-22 14:20:01.513032</td>\n",
       "    </tr>\n",
       "    <tr>\n",
       "      <th>4</th>\n",
       "      <td>transaction_4</td>\n",
       "      <td>CARD_PAYMENT</td>\n",
       "      <td>AED</td>\n",
       "      <td>43.81</td>\n",
       "      <td>COMPLETED</td>\n",
       "      <td>FALSE</td>\n",
       "      <td>5651.0</td>\n",
       "      <td>Abu Dhabi</td>\n",
       "      <td>ARE</td>\n",
       "      <td>OUTBOUND</td>\n",
       "      <td>user_5509</td>\n",
       "      <td>2019-03-22 05:42:50.316652</td>\n",
       "    </tr>\n",
       "  </tbody>\n",
       "</table>\n",
       "</div>"
      ],
      "text/plain": [
       "  transaction_id transactions_type transactions_currency  amount_usd  \\\n",
       "0  transaction_0          TRANSFER                   AED        4.55   \n",
       "1  transaction_1      CARD_PAYMENT                   AED       15.50   \n",
       "2  transaction_2      CARD_PAYMENT                   AED       43.40   \n",
       "3  transaction_3          TRANSFER                   AED    10043.01   \n",
       "4  transaction_4      CARD_PAYMENT                   AED       43.81   \n",
       "\n",
       "  transactions_state ea_cardholderpresence  ea_merchant_mcc ea_merchant_city  \\\n",
       "0          COMPLETED                   NaN              NaN              NaN   \n",
       "1          COMPLETED                 FALSE           4111.0            Dubai   \n",
       "2          COMPLETED                 FALSE           5814.0            Dubai   \n",
       "3          COMPLETED                   NaN              NaN              NaN   \n",
       "4          COMPLETED                 FALSE           5651.0        Abu Dhabi   \n",
       "\n",
       "  ea_merchant_country direction    user_id               created_date  \n",
       "0                 NaN  OUTBOUND   user_898 2018-04-03 03:34:21.784487  \n",
       "1                 ARE  OUTBOUND  user_1652 2019-03-19 06:15:59.537032  \n",
       "2                 ARE  OUTBOUND  user_1652 2019-03-18 18:53:41.323032  \n",
       "3                 NaN  OUTBOUND  user_1652 2019-03-22 14:20:01.513032  \n",
       "4                 ARE  OUTBOUND  user_5509 2019-03-22 05:42:50.316652  "
      ]
     },
     "execution_count": 22,
     "metadata": {},
     "output_type": "execute_result"
    }
   ],
   "source": [
    "transactions.head()\n"
   ]
  },
  {
   "cell_type": "code",
   "execution_count": 23,
   "metadata": {},
   "outputs": [
    {
     "name": "stdout",
     "output_type": "stream",
     "text": [
      "<class 'pandas.core.frame.DataFrame'>\n",
      "RangeIndex: 2740075 entries, 0 to 2740074\n",
      "Data columns (total 12 columns):\n",
      "transaction_id           object\n",
      "transactions_type        object\n",
      "transactions_currency    object\n",
      "amount_usd               float64\n",
      "transactions_state       object\n",
      "ea_cardholderpresence    object\n",
      "ea_merchant_mcc          float64\n",
      "ea_merchant_city         object\n",
      "ea_merchant_country      object\n",
      "direction                object\n",
      "user_id                  object\n",
      "created_date             datetime64[ns]\n",
      "dtypes: datetime64[ns](1), float64(2), object(9)\n",
      "memory usage: 250.9+ MB\n"
     ]
    }
   ],
   "source": [
    "transactions.info()\n"
   ]
  },
  {
   "cell_type": "code",
   "execution_count": 24,
   "metadata": {},
   "outputs": [
    {
     "data": {
      "text/plain": [
       "CARD_PAYMENT    1475780\n",
       "TRANSFER         500409\n",
       "TOPUP            388331\n",
       "EXCHANGE         159148\n",
       "ATM               93675\n",
       "CASHBACK          82789\n",
       "FEE               23659\n",
       "CARD_REFUND       11962\n",
       "TAX                2829\n",
       "REFUND             1493\n",
       "Name: transactions_type, dtype: int64"
      ]
     },
     "execution_count": 24,
     "metadata": {},
     "output_type": "execute_result"
    }
   ],
   "source": [
    "# frequency of type of transactions\n",
    "transactions['transactions_type'].value_counts()\n"
   ]
  },
  {
   "cell_type": "code",
   "execution_count": 25,
   "metadata": {
    "scrolled": true
   },
   "outputs": [
    {
     "data": {
      "text/plain": [
       "EUR    1160135\n",
       "GBP     887795\n",
       "PLN     231583\n",
       "RON     167806\n",
       "USD      80639\n",
       "CZK      44970\n",
       "CHF      39716\n",
       "SEK      26804\n",
       "AUD      16871\n",
       "NOK      14271\n",
       "DKK      14058\n",
       "CAD       8772\n",
       "HUF       8408\n",
       "TRY       4429\n",
       "AED       3774\n",
       "NZD       3727\n",
       "ILS       3563\n",
       "BTC       3327\n",
       "JPY       3200\n",
       "XRP       2932\n",
       "ZAR       2897\n",
       "SGD       2207\n",
       "THB       2159\n",
       "HKD       1818\n",
       "ETH       1145\n",
       "MAD        925\n",
       "LTC        584\n",
       "BCH        326\n",
       "QAR        314\n",
       "HRK        287\n",
       "BGN        257\n",
       "MXN        159\n",
       "INR        148\n",
       "RUB         58\n",
       "SAR         11\n",
       "Name: transactions_currency, dtype: int64"
      ]
     },
     "execution_count": 25,
     "metadata": {},
     "output_type": "execute_result"
    }
   ],
   "source": [
    "# number of transcations per currency\n",
    "transactions['transactions_currency'].value_counts()\n"
   ]
  },
  {
   "cell_type": "code",
   "execution_count": 26,
   "metadata": {},
   "outputs": [
    {
     "data": {
      "text/plain": [
       "user_12657    5285\n",
       "user_4243     3381\n",
       "user_10794    3223\n",
       "user_1285     3056\n",
       "user_10869    2913\n",
       "Name: user_id, dtype: int64"
      ]
     },
     "execution_count": 26,
     "metadata": {},
     "output_type": "execute_result"
    }
   ],
   "source": [
    "# transactions per user\n",
    "users_ts = transactions['user_id'].value_counts()\n",
    "users_ts.head()\n"
   ]
  },
  {
   "cell_type": "code",
   "execution_count": 27,
   "metadata": {},
   "outputs": [
    {
     "data": {
      "text/plain": [
       "count    18766.000000\n",
       "mean       146.012736\n",
       "std        245.809785\n",
       "min          1.000000\n",
       "25%         17.000000\n",
       "50%         60.000000\n",
       "75%        166.000000\n",
       "max       5285.000000\n",
       "Name: user_id, dtype: float64"
      ]
     },
     "execution_count": 27,
     "metadata": {},
     "output_type": "execute_result"
    }
   ],
   "source": [
    "# transactions per user summary\n",
    "users_ts.describe()\n"
   ]
  },
  {
   "cell_type": "code",
   "execution_count": 28,
   "metadata": {},
   "outputs": [
    {
     "data": {
      "text/plain": [
       "2740075"
      ]
     },
     "execution_count": 28,
     "metadata": {},
     "output_type": "execute_result"
    }
   ],
   "source": [
    "# amount of transcations\n",
    "len(transactions)\n"
   ]
  },
  {
   "cell_type": "code",
   "execution_count": 29,
   "metadata": {},
   "outputs": [],
   "source": [
    "# card payment is the most common transaction type, followed by transfer, topup, exchange, atm and cashback\n",
    "# eur and gbp dominates as main currencies\n",
    "# data from 18766 different users on transactions\n",
    "# users have an avg of 146 transactions, min 1, max 5285\n"
   ]
  },
  {
   "cell_type": "markdown",
   "metadata": {},
   "source": [
    "### User Engagement Analysis"
   ]
  },
  {
   "cell_type": "code",
   "execution_count": 30,
   "metadata": {},
   "outputs": [],
   "source": [
    "# user engagement measures whether users find value in a product\n",
    "# in other words, the level of user envolvement with the product\n",
    "# measure of user engagement: amount of transactions per period of time (activity)\n"
   ]
  },
  {
   "cell_type": "code",
   "execution_count": 31,
   "metadata": {},
   "outputs": [],
   "source": [
    "# grouping transactions per user from first to last day\n",
    "count = transactions[['transaction_id', 'user_id']].groupby('user_id').count().reset_index()\n",
    "max_date = transactions[['created_date', 'user_id']].groupby('user_id').max().reset_index()\n",
    "min_date = transactions[['created_date', 'user_id']].groupby('user_id').min().reset_index()\n"
   ]
  },
  {
   "cell_type": "code",
   "execution_count": 32,
   "metadata": {},
   "outputs": [],
   "source": [
    "# labeling columns\n",
    "count.columns = ['user_id', 'transactions']\n",
    "min_date.columns = ['user_id', 'min_date']\n",
    "max_date.columns = ['user_id', 'max_date']\n"
   ]
  },
  {
   "cell_type": "code",
   "execution_count": 33,
   "metadata": {},
   "outputs": [
    {
     "data": {
      "text/html": [
       "<div>\n",
       "<style scoped>\n",
       "    .dataframe tbody tr th:only-of-type {\n",
       "        vertical-align: middle;\n",
       "    }\n",
       "\n",
       "    .dataframe tbody tr th {\n",
       "        vertical-align: top;\n",
       "    }\n",
       "\n",
       "    .dataframe thead th {\n",
       "        text-align: right;\n",
       "    }\n",
       "</style>\n",
       "<table border=\"1\" class=\"dataframe\">\n",
       "  <thead>\n",
       "    <tr style=\"text-align: right;\">\n",
       "      <th></th>\n",
       "      <th>user_id</th>\n",
       "      <th>min_date</th>\n",
       "      <th>max_date</th>\n",
       "      <th>transactions</th>\n",
       "      <th>weeks_active</th>\n",
       "      <th>engagement_score</th>\n",
       "    </tr>\n",
       "  </thead>\n",
       "  <tbody>\n",
       "    <tr>\n",
       "      <th>0</th>\n",
       "      <td>user_0</td>\n",
       "      <td>2018-01-16 23:23:48.330466</td>\n",
       "      <td>2019-05-02 03:38:44.690466</td>\n",
       "      <td>389</td>\n",
       "      <td>67.168149</td>\n",
       "      <td>5.791435</td>\n",
       "    </tr>\n",
       "    <tr>\n",
       "      <th>1</th>\n",
       "      <td>user_1</td>\n",
       "      <td>2018-01-31 09:13:58.795876</td>\n",
       "      <td>2019-02-26 22:05:28.902876</td>\n",
       "      <td>129</td>\n",
       "      <td>55.933681</td>\n",
       "      <td>2.306303</td>\n",
       "    </tr>\n",
       "    <tr>\n",
       "      <th>2</th>\n",
       "      <td>user_10</td>\n",
       "      <td>2018-01-04 08:09:23.911282</td>\n",
       "      <td>2019-05-11 11:01:00.564282</td>\n",
       "      <td>1053</td>\n",
       "      <td>70.302739</td>\n",
       "      <td>14.978079</td>\n",
       "    </tr>\n",
       "    <tr>\n",
       "      <th>3</th>\n",
       "      <td>user_100</td>\n",
       "      <td>2018-01-15 16:39:14.747386</td>\n",
       "      <td>2019-05-07 13:00:24.319386</td>\n",
       "      <td>133</td>\n",
       "      <td>68.121147</td>\n",
       "      <td>1.952404</td>\n",
       "    </tr>\n",
       "    <tr>\n",
       "      <th>4</th>\n",
       "      <td>user_1000</td>\n",
       "      <td>2018-01-06 14:26:25.535706</td>\n",
       "      <td>2018-06-26 05:00:42.236706</td>\n",
       "      <td>39</td>\n",
       "      <td>24.372448</td>\n",
       "      <td>1.600168</td>\n",
       "    </tr>\n",
       "  </tbody>\n",
       "</table>\n",
       "</div>"
      ],
      "text/plain": [
       "     user_id                   min_date                   max_date  \\\n",
       "0     user_0 2018-01-16 23:23:48.330466 2019-05-02 03:38:44.690466   \n",
       "1     user_1 2018-01-31 09:13:58.795876 2019-02-26 22:05:28.902876   \n",
       "2    user_10 2018-01-04 08:09:23.911282 2019-05-11 11:01:00.564282   \n",
       "3   user_100 2018-01-15 16:39:14.747386 2019-05-07 13:00:24.319386   \n",
       "4  user_1000 2018-01-06 14:26:25.535706 2018-06-26 05:00:42.236706   \n",
       "\n",
       "   transactions  weeks_active  engagement_score  \n",
       "0           389     67.168149          5.791435  \n",
       "1           129     55.933681          2.306303  \n",
       "2          1053     70.302739         14.978079  \n",
       "3           133     68.121147          1.952404  \n",
       "4            39     24.372448          1.600168  "
      ]
     },
     "execution_count": 33,
     "metadata": {},
     "output_type": "execute_result"
    }
   ],
   "source": [
    "# merging all together\n",
    "merged_date = (min_date.merge(max_date, how='inner', on='user_id')).merge(count, how='inner', on='user_id')\n",
    "delta_date = merged_date['max_date'] - merged_date['min_date']\n",
    "merged_date['weeks_active'] = delta_date / np.timedelta64(7, 'D')\n",
    "merged_date['engagement_score'] = merged_date['transactions'] / merged_date['weeks_active']\n",
    "merged_date.head()\n"
   ]
  },
  {
   "cell_type": "code",
   "execution_count": 34,
   "metadata": {},
   "outputs": [],
   "source": [
    "# selecting features to merge dataframes\n",
    "merged_date_new = merged_date[['user_id', 'engagement_score']]\n",
    "users_new = users[['user_id', 'birth_year', 'country', \n",
    "                   'user_settings_crypto_unlocked', \n",
    "                   'plan', 'num_contacts']]\n"
   ]
  },
  {
   "cell_type": "code",
   "execution_count": 35,
   "metadata": {},
   "outputs": [],
   "source": [
    "# merging dataframes on user_id\n",
    "df_first = pd.merge(merged_date_new, users_new, on='user_id')\n",
    "df = pd.merge(df_first, devices, on='user_id')\n"
   ]
  },
  {
   "cell_type": "code",
   "execution_count": 36,
   "metadata": {},
   "outputs": [],
   "source": [
    "# removing extreme cases to prevent it from affecting the model\n",
    "def remove_outlier(df_in, col_name):\n",
    "    q1 = df_in[col_name].quantile(0.25)\n",
    "    q3 = df_in[col_name].quantile(0.75)\n",
    "    iqr = q3-q1 #Interquartile range\n",
    "    fence_low  = q1-1.5*iqr\n",
    "    fence_high = q3+1.5*iqr\n",
    "    df_out = df_in.loc[(df_in[col_name] > fence_low) & (df_in[col_name] < fence_high)]\n",
    "    return df_out\n"
   ]
  },
  {
   "cell_type": "code",
   "execution_count": 37,
   "metadata": {
    "scrolled": true
   },
   "outputs": [],
   "source": [
    "# removing outliers\n",
    "df = remove_outlier(df, 'engagement_score')\n"
   ]
  },
  {
   "cell_type": "code",
   "execution_count": 38,
   "metadata": {},
   "outputs": [],
   "source": [
    "# drop user_id\n",
    "del df['user_id']\n"
   ]
  },
  {
   "cell_type": "code",
   "execution_count": 39,
   "metadata": {},
   "outputs": [],
   "source": [
    "# adding age column\n",
    "df['age'] = 2019 - df['birth_year']\n"
   ]
  },
  {
   "cell_type": "code",
   "execution_count": 40,
   "metadata": {},
   "outputs": [
    {
     "data": {
      "text/html": [
       "<div>\n",
       "<style scoped>\n",
       "    .dataframe tbody tr th:only-of-type {\n",
       "        vertical-align: middle;\n",
       "    }\n",
       "\n",
       "    .dataframe tbody tr th {\n",
       "        vertical-align: top;\n",
       "    }\n",
       "\n",
       "    .dataframe thead th {\n",
       "        text-align: right;\n",
       "    }\n",
       "</style>\n",
       "<table border=\"1\" class=\"dataframe\">\n",
       "  <thead>\n",
       "    <tr style=\"text-align: right;\">\n",
       "      <th></th>\n",
       "      <th>engagement_score</th>\n",
       "      <th>birth_year</th>\n",
       "      <th>country</th>\n",
       "      <th>user_settings_crypto_unlocked</th>\n",
       "      <th>plan</th>\n",
       "      <th>num_contacts</th>\n",
       "      <th>brand</th>\n",
       "      <th>age</th>\n",
       "    </tr>\n",
       "  </thead>\n",
       "  <tbody>\n",
       "    <tr>\n",
       "      <th>0</th>\n",
       "      <td>5.791435</td>\n",
       "      <td>1989</td>\n",
       "      <td>PL</td>\n",
       "      <td>1</td>\n",
       "      <td>STANDARD</td>\n",
       "      <td>3</td>\n",
       "      <td>Apple</td>\n",
       "      <td>30</td>\n",
       "    </tr>\n",
       "    <tr>\n",
       "      <th>1</th>\n",
       "      <td>2.306303</td>\n",
       "      <td>1975</td>\n",
       "      <td>GB</td>\n",
       "      <td>0</td>\n",
       "      <td>STANDARD</td>\n",
       "      <td>21</td>\n",
       "      <td>Apple</td>\n",
       "      <td>44</td>\n",
       "    </tr>\n",
       "    <tr>\n",
       "      <th>2</th>\n",
       "      <td>14.978079</td>\n",
       "      <td>1980</td>\n",
       "      <td>FR</td>\n",
       "      <td>0</td>\n",
       "      <td>STANDARD</td>\n",
       "      <td>38</td>\n",
       "      <td>Apple</td>\n",
       "      <td>39</td>\n",
       "    </tr>\n",
       "    <tr>\n",
       "      <th>3</th>\n",
       "      <td>1.952404</td>\n",
       "      <td>1969</td>\n",
       "      <td>GB</td>\n",
       "      <td>0</td>\n",
       "      <td>STANDARD</td>\n",
       "      <td>0</td>\n",
       "      <td>Apple</td>\n",
       "      <td>50</td>\n",
       "    </tr>\n",
       "    <tr>\n",
       "      <th>4</th>\n",
       "      <td>1.600168</td>\n",
       "      <td>1960</td>\n",
       "      <td>GB</td>\n",
       "      <td>1</td>\n",
       "      <td>STANDARD</td>\n",
       "      <td>0</td>\n",
       "      <td>Android</td>\n",
       "      <td>59</td>\n",
       "    </tr>\n",
       "  </tbody>\n",
       "</table>\n",
       "</div>"
      ],
      "text/plain": [
       "   engagement_score  birth_year country  user_settings_crypto_unlocked  \\\n",
       "0          5.791435        1989      PL                              1   \n",
       "1          2.306303        1975      GB                              0   \n",
       "2         14.978079        1980      FR                              0   \n",
       "3          1.952404        1969      GB                              0   \n",
       "4          1.600168        1960      GB                              1   \n",
       "\n",
       "       plan  num_contacts    brand  age  \n",
       "0  STANDARD             3    Apple   30  \n",
       "1  STANDARD            21    Apple   44  \n",
       "2  STANDARD            38    Apple   39  \n",
       "3  STANDARD             0    Apple   50  \n",
       "4  STANDARD             0  Android   59  "
      ]
     },
     "execution_count": 40,
     "metadata": {},
     "output_type": "execute_result"
    }
   ],
   "source": [
    "# final dataframe for analysis\n",
    "df.head()\n"
   ]
  },
  {
   "cell_type": "code",
   "execution_count": 41,
   "metadata": {},
   "outputs": [],
   "source": [
    "# saving original dataframe\n",
    "df_original = df\n"
   ]
  },
  {
   "cell_type": "code",
   "execution_count": 42,
   "metadata": {
    "scrolled": true
   },
   "outputs": [
    {
     "data": {
      "text/html": [
       "<div>\n",
       "<style scoped>\n",
       "    .dataframe tbody tr th:only-of-type {\n",
       "        vertical-align: middle;\n",
       "    }\n",
       "\n",
       "    .dataframe tbody tr th {\n",
       "        vertical-align: top;\n",
       "    }\n",
       "\n",
       "    .dataframe thead th {\n",
       "        text-align: right;\n",
       "    }\n",
       "</style>\n",
       "<table border=\"1\" class=\"dataframe\">\n",
       "  <thead>\n",
       "    <tr style=\"text-align: right;\">\n",
       "      <th></th>\n",
       "      <th>country</th>\n",
       "      <th>countries</th>\n",
       "    </tr>\n",
       "  </thead>\n",
       "  <tbody>\n",
       "    <tr>\n",
       "      <th>0</th>\n",
       "      <td>PL</td>\n",
       "      <td>0</td>\n",
       "    </tr>\n",
       "    <tr>\n",
       "      <th>1</th>\n",
       "      <td>GB</td>\n",
       "      <td>1</td>\n",
       "    </tr>\n",
       "    <tr>\n",
       "      <th>2</th>\n",
       "      <td>FR</td>\n",
       "      <td>2</td>\n",
       "    </tr>\n",
       "    <tr>\n",
       "      <th>3</th>\n",
       "      <td>LT</td>\n",
       "      <td>3</td>\n",
       "    </tr>\n",
       "    <tr>\n",
       "      <th>4</th>\n",
       "      <td>ES</td>\n",
       "      <td>4</td>\n",
       "    </tr>\n",
       "    <tr>\n",
       "      <th>5</th>\n",
       "      <td>CZ</td>\n",
       "      <td>5</td>\n",
       "    </tr>\n",
       "    <tr>\n",
       "      <th>6</th>\n",
       "      <td>DE</td>\n",
       "      <td>6</td>\n",
       "    </tr>\n",
       "    <tr>\n",
       "      <th>7</th>\n",
       "      <td>CH</td>\n",
       "      <td>7</td>\n",
       "    </tr>\n",
       "    <tr>\n",
       "      <th>8</th>\n",
       "      <td>IE</td>\n",
       "      <td>8</td>\n",
       "    </tr>\n",
       "    <tr>\n",
       "      <th>9</th>\n",
       "      <td>RO</td>\n",
       "      <td>9</td>\n",
       "    </tr>\n",
       "    <tr>\n",
       "      <th>10</th>\n",
       "      <td>PT</td>\n",
       "      <td>10</td>\n",
       "    </tr>\n",
       "    <tr>\n",
       "      <th>11</th>\n",
       "      <td>GG</td>\n",
       "      <td>11</td>\n",
       "    </tr>\n",
       "    <tr>\n",
       "      <th>12</th>\n",
       "      <td>AT</td>\n",
       "      <td>12</td>\n",
       "    </tr>\n",
       "    <tr>\n",
       "      <th>13</th>\n",
       "      <td>MT</td>\n",
       "      <td>13</td>\n",
       "    </tr>\n",
       "    <tr>\n",
       "      <th>14</th>\n",
       "      <td>IT</td>\n",
       "      <td>14</td>\n",
       "    </tr>\n",
       "    <tr>\n",
       "      <th>15</th>\n",
       "      <td>NL</td>\n",
       "      <td>15</td>\n",
       "    </tr>\n",
       "    <tr>\n",
       "      <th>16</th>\n",
       "      <td>BE</td>\n",
       "      <td>16</td>\n",
       "    </tr>\n",
       "    <tr>\n",
       "      <th>17</th>\n",
       "      <td>SK</td>\n",
       "      <td>17</td>\n",
       "    </tr>\n",
       "    <tr>\n",
       "      <th>18</th>\n",
       "      <td>GI</td>\n",
       "      <td>18</td>\n",
       "    </tr>\n",
       "    <tr>\n",
       "      <th>19</th>\n",
       "      <td>BG</td>\n",
       "      <td>19</td>\n",
       "    </tr>\n",
       "    <tr>\n",
       "      <th>20</th>\n",
       "      <td>LV</td>\n",
       "      <td>20</td>\n",
       "    </tr>\n",
       "    <tr>\n",
       "      <th>21</th>\n",
       "      <td>CY</td>\n",
       "      <td>21</td>\n",
       "    </tr>\n",
       "    <tr>\n",
       "      <th>22</th>\n",
       "      <td>SE</td>\n",
       "      <td>22</td>\n",
       "    </tr>\n",
       "    <tr>\n",
       "      <th>23</th>\n",
       "      <td>SI</td>\n",
       "      <td>23</td>\n",
       "    </tr>\n",
       "    <tr>\n",
       "      <th>24</th>\n",
       "      <td>NO</td>\n",
       "      <td>24</td>\n",
       "    </tr>\n",
       "    <tr>\n",
       "      <th>25</th>\n",
       "      <td>HR</td>\n",
       "      <td>25</td>\n",
       "    </tr>\n",
       "    <tr>\n",
       "      <th>26</th>\n",
       "      <td>DK</td>\n",
       "      <td>26</td>\n",
       "    </tr>\n",
       "    <tr>\n",
       "      <th>27</th>\n",
       "      <td>FI</td>\n",
       "      <td>27</td>\n",
       "    </tr>\n",
       "    <tr>\n",
       "      <th>28</th>\n",
       "      <td>HU</td>\n",
       "      <td>28</td>\n",
       "    </tr>\n",
       "    <tr>\n",
       "      <th>29</th>\n",
       "      <td>GR</td>\n",
       "      <td>29</td>\n",
       "    </tr>\n",
       "    <tr>\n",
       "      <th>30</th>\n",
       "      <td>LU</td>\n",
       "      <td>30</td>\n",
       "    </tr>\n",
       "    <tr>\n",
       "      <th>31</th>\n",
       "      <td>JE</td>\n",
       "      <td>31</td>\n",
       "    </tr>\n",
       "    <tr>\n",
       "      <th>32</th>\n",
       "      <td>EE</td>\n",
       "      <td>32</td>\n",
       "    </tr>\n",
       "    <tr>\n",
       "      <th>33</th>\n",
       "      <td>GP</td>\n",
       "      <td>33</td>\n",
       "    </tr>\n",
       "    <tr>\n",
       "      <th>34</th>\n",
       "      <td>IM</td>\n",
       "      <td>34</td>\n",
       "    </tr>\n",
       "    <tr>\n",
       "      <th>35</th>\n",
       "      <td>IS</td>\n",
       "      <td>35</td>\n",
       "    </tr>\n",
       "    <tr>\n",
       "      <th>36</th>\n",
       "      <td>RE</td>\n",
       "      <td>36</td>\n",
       "    </tr>\n",
       "    <tr>\n",
       "      <th>37</th>\n",
       "      <td>MQ</td>\n",
       "      <td>37</td>\n",
       "    </tr>\n",
       "    <tr>\n",
       "      <th>38</th>\n",
       "      <td>LI</td>\n",
       "      <td>38</td>\n",
       "    </tr>\n",
       "    <tr>\n",
       "      <th>39</th>\n",
       "      <td>AU</td>\n",
       "      <td>39</td>\n",
       "    </tr>\n",
       "    <tr>\n",
       "      <th>40</th>\n",
       "      <td>GF</td>\n",
       "      <td>40</td>\n",
       "    </tr>\n",
       "  </tbody>\n",
       "</table>\n",
       "</div>"
      ],
      "text/plain": [
       "   country  countries\n",
       "0       PL          0\n",
       "1       GB          1\n",
       "2       FR          2\n",
       "3       LT          3\n",
       "4       ES          4\n",
       "5       CZ          5\n",
       "6       DE          6\n",
       "7       CH          7\n",
       "8       IE          8\n",
       "9       RO          9\n",
       "10      PT         10\n",
       "11      GG         11\n",
       "12      AT         12\n",
       "13      MT         13\n",
       "14      IT         14\n",
       "15      NL         15\n",
       "16      BE         16\n",
       "17      SK         17\n",
       "18      GI         18\n",
       "19      BG         19\n",
       "20      LV         20\n",
       "21      CY         21\n",
       "22      SE         22\n",
       "23      SI         23\n",
       "24      NO         24\n",
       "25      HR         25\n",
       "26      DK         26\n",
       "27      FI         27\n",
       "28      HU         28\n",
       "29      GR         29\n",
       "30      LU         30\n",
       "31      JE         31\n",
       "32      EE         32\n",
       "33      GP         33\n",
       "34      IM         34\n",
       "35      IS         35\n",
       "36      RE         36\n",
       "37      MQ         37\n",
       "38      LI         38\n",
       "39      AU         39\n",
       "40      GF         40"
      ]
     },
     "execution_count": 42,
     "metadata": {},
     "output_type": "execute_result"
    }
   ],
   "source": [
    "# converting country to numerical\n",
    "countries = df.country.drop_duplicates().reset_index(drop=True)\n",
    "countries = pd.DataFrame(countries)\n",
    "countries['countries'] = countries.index.tolist()\n",
    "countries\n"
   ]
  },
  {
   "cell_type": "code",
   "execution_count": 43,
   "metadata": {},
   "outputs": [
    {
     "data": {
      "text/html": [
       "<div>\n",
       "<style scoped>\n",
       "    .dataframe tbody tr th:only-of-type {\n",
       "        vertical-align: middle;\n",
       "    }\n",
       "\n",
       "    .dataframe tbody tr th {\n",
       "        vertical-align: top;\n",
       "    }\n",
       "\n",
       "    .dataframe thead th {\n",
       "        text-align: right;\n",
       "    }\n",
       "</style>\n",
       "<table border=\"1\" class=\"dataframe\">\n",
       "  <thead>\n",
       "    <tr style=\"text-align: right;\">\n",
       "      <th></th>\n",
       "      <th>plan</th>\n",
       "      <th>plans</th>\n",
       "    </tr>\n",
       "  </thead>\n",
       "  <tbody>\n",
       "    <tr>\n",
       "      <th>0</th>\n",
       "      <td>STANDARD</td>\n",
       "      <td>0</td>\n",
       "    </tr>\n",
       "    <tr>\n",
       "      <th>1</th>\n",
       "      <td>PREMIUM</td>\n",
       "      <td>1</td>\n",
       "    </tr>\n",
       "    <tr>\n",
       "      <th>2</th>\n",
       "      <td>METAL</td>\n",
       "      <td>2</td>\n",
       "    </tr>\n",
       "    <tr>\n",
       "      <th>3</th>\n",
       "      <td>METAL_FREE</td>\n",
       "      <td>3</td>\n",
       "    </tr>\n",
       "    <tr>\n",
       "      <th>4</th>\n",
       "      <td>PREMIUM_OFFER</td>\n",
       "      <td>4</td>\n",
       "    </tr>\n",
       "    <tr>\n",
       "      <th>5</th>\n",
       "      <td>PREMIUM_FREE</td>\n",
       "      <td>5</td>\n",
       "    </tr>\n",
       "  </tbody>\n",
       "</table>\n",
       "</div>"
      ],
      "text/plain": [
       "            plan  plans\n",
       "0       STANDARD      0\n",
       "1        PREMIUM      1\n",
       "2          METAL      2\n",
       "3     METAL_FREE      3\n",
       "4  PREMIUM_OFFER      4\n",
       "5   PREMIUM_FREE      5"
      ]
     },
     "execution_count": 43,
     "metadata": {},
     "output_type": "execute_result"
    }
   ],
   "source": [
    "# converting plan to numerical\n",
    "plans = df.plan.drop_duplicates().reset_index(drop=True)\n",
    "plans = pd.DataFrame(plans)\n",
    "plans['plans'] = plans.index.tolist()\n",
    "plans\n"
   ]
  },
  {
   "cell_type": "code",
   "execution_count": 44,
   "metadata": {},
   "outputs": [
    {
     "data": {
      "text/html": [
       "<div>\n",
       "<style scoped>\n",
       "    .dataframe tbody tr th:only-of-type {\n",
       "        vertical-align: middle;\n",
       "    }\n",
       "\n",
       "    .dataframe tbody tr th {\n",
       "        vertical-align: top;\n",
       "    }\n",
       "\n",
       "    .dataframe thead th {\n",
       "        text-align: right;\n",
       "    }\n",
       "</style>\n",
       "<table border=\"1\" class=\"dataframe\">\n",
       "  <thead>\n",
       "    <tr style=\"text-align: right;\">\n",
       "      <th></th>\n",
       "      <th>brand</th>\n",
       "      <th>brands</th>\n",
       "    </tr>\n",
       "  </thead>\n",
       "  <tbody>\n",
       "    <tr>\n",
       "      <th>0</th>\n",
       "      <td>Apple</td>\n",
       "      <td>0</td>\n",
       "    </tr>\n",
       "    <tr>\n",
       "      <th>1</th>\n",
       "      <td>Android</td>\n",
       "      <td>1</td>\n",
       "    </tr>\n",
       "    <tr>\n",
       "      <th>2</th>\n",
       "      <td>Unknown</td>\n",
       "      <td>2</td>\n",
       "    </tr>\n",
       "  </tbody>\n",
       "</table>\n",
       "</div>"
      ],
      "text/plain": [
       "     brand  brands\n",
       "0    Apple       0\n",
       "1  Android       1\n",
       "2  Unknown       2"
      ]
     },
     "execution_count": 44,
     "metadata": {},
     "output_type": "execute_result"
    }
   ],
   "source": [
    "# converting brand to numerical\n",
    "brands = df.brand.drop_duplicates().reset_index(drop=True)\n",
    "brands = pd.DataFrame(brands)\n",
    "brands['brands'] = brands.index.tolist()\n",
    "brands\n"
   ]
  },
  {
   "cell_type": "code",
   "execution_count": 45,
   "metadata": {},
   "outputs": [],
   "source": [
    "df = pd.merge(df, countries, on='country')\n",
    "df = pd.merge(df, plans, on='plan')\n",
    "df = pd.merge(df, brands, on='brand')\n"
   ]
  },
  {
   "cell_type": "code",
   "execution_count": 46,
   "metadata": {},
   "outputs": [
    {
     "data": {
      "text/html": [
       "<div>\n",
       "<style scoped>\n",
       "    .dataframe tbody tr th:only-of-type {\n",
       "        vertical-align: middle;\n",
       "    }\n",
       "\n",
       "    .dataframe tbody tr th {\n",
       "        vertical-align: top;\n",
       "    }\n",
       "\n",
       "    .dataframe thead th {\n",
       "        text-align: right;\n",
       "    }\n",
       "</style>\n",
       "<table border=\"1\" class=\"dataframe\">\n",
       "  <thead>\n",
       "    <tr style=\"text-align: right;\">\n",
       "      <th></th>\n",
       "      <th>engagement_score</th>\n",
       "      <th>user_settings_crypto_unlocked</th>\n",
       "      <th>num_contacts</th>\n",
       "      <th>age</th>\n",
       "      <th>countries</th>\n",
       "      <th>plans</th>\n",
       "      <th>brands</th>\n",
       "    </tr>\n",
       "  </thead>\n",
       "  <tbody>\n",
       "    <tr>\n",
       "      <th>0</th>\n",
       "      <td>5.791435</td>\n",
       "      <td>1</td>\n",
       "      <td>3</td>\n",
       "      <td>30</td>\n",
       "      <td>0</td>\n",
       "      <td>0</td>\n",
       "      <td>0</td>\n",
       "    </tr>\n",
       "    <tr>\n",
       "      <th>1</th>\n",
       "      <td>0.739598</td>\n",
       "      <td>0</td>\n",
       "      <td>0</td>\n",
       "      <td>31</td>\n",
       "      <td>0</td>\n",
       "      <td>0</td>\n",
       "      <td>0</td>\n",
       "    </tr>\n",
       "    <tr>\n",
       "      <th>2</th>\n",
       "      <td>2.022998</td>\n",
       "      <td>1</td>\n",
       "      <td>7</td>\n",
       "      <td>27</td>\n",
       "      <td>0</td>\n",
       "      <td>0</td>\n",
       "      <td>0</td>\n",
       "    </tr>\n",
       "    <tr>\n",
       "      <th>3</th>\n",
       "      <td>0.053889</td>\n",
       "      <td>0</td>\n",
       "      <td>0</td>\n",
       "      <td>48</td>\n",
       "      <td>0</td>\n",
       "      <td>0</td>\n",
       "      <td>0</td>\n",
       "    </tr>\n",
       "    <tr>\n",
       "      <th>4</th>\n",
       "      <td>0.481496</td>\n",
       "      <td>0</td>\n",
       "      <td>0</td>\n",
       "      <td>24</td>\n",
       "      <td>0</td>\n",
       "      <td>0</td>\n",
       "      <td>0</td>\n",
       "    </tr>\n",
       "  </tbody>\n",
       "</table>\n",
       "</div>"
      ],
      "text/plain": [
       "   engagement_score  user_settings_crypto_unlocked  num_contacts  age  \\\n",
       "0          5.791435                              1             3   30   \n",
       "1          0.739598                              0             0   31   \n",
       "2          2.022998                              1             7   27   \n",
       "3          0.053889                              0             0   48   \n",
       "4          0.481496                              0             0   24   \n",
       "\n",
       "   countries  plans  brands  \n",
       "0          0      0       0  \n",
       "1          0      0       0  \n",
       "2          0      0       0  \n",
       "3          0      0       0  \n",
       "4          0      0       0  "
      ]
     },
     "execution_count": 46,
     "metadata": {},
     "output_type": "execute_result"
    }
   ],
   "source": [
    "# model dataframe with relevant features\n",
    "df = df.drop(['country', 'plan', 'brand', 'birth_year'], axis=1)\n",
    "df.head()\n"
   ]
  },
  {
   "cell_type": "code",
   "execution_count": 47,
   "metadata": {},
   "outputs": [
    {
     "data": {
      "text/plain": [
       "0    5.791435\n",
       "1    0.739598\n",
       "2    2.022998\n",
       "3    0.053889\n",
       "4    0.481496\n",
       "Name: engagement_score, dtype: float64"
      ]
     },
     "execution_count": 47,
     "metadata": {},
     "output_type": "execute_result"
    }
   ],
   "source": [
    "# dependent variable\n",
    "df_y = df['engagement_score']\n",
    "df_y.head()"
   ]
  },
  {
   "cell_type": "code",
   "execution_count": 48,
   "metadata": {},
   "outputs": [
    {
     "data": {
      "text/html": [
       "<div>\n",
       "<style scoped>\n",
       "    .dataframe tbody tr th:only-of-type {\n",
       "        vertical-align: middle;\n",
       "    }\n",
       "\n",
       "    .dataframe tbody tr th {\n",
       "        vertical-align: top;\n",
       "    }\n",
       "\n",
       "    .dataframe thead th {\n",
       "        text-align: right;\n",
       "    }\n",
       "</style>\n",
       "<table border=\"1\" class=\"dataframe\">\n",
       "  <thead>\n",
       "    <tr style=\"text-align: right;\">\n",
       "      <th></th>\n",
       "      <th>user_settings_crypto_unlocked</th>\n",
       "      <th>num_contacts</th>\n",
       "      <th>age</th>\n",
       "      <th>countries</th>\n",
       "      <th>plans</th>\n",
       "      <th>brands</th>\n",
       "    </tr>\n",
       "  </thead>\n",
       "  <tbody>\n",
       "    <tr>\n",
       "      <th>0</th>\n",
       "      <td>1</td>\n",
       "      <td>3</td>\n",
       "      <td>30</td>\n",
       "      <td>0</td>\n",
       "      <td>0</td>\n",
       "      <td>0</td>\n",
       "    </tr>\n",
       "    <tr>\n",
       "      <th>1</th>\n",
       "      <td>0</td>\n",
       "      <td>0</td>\n",
       "      <td>31</td>\n",
       "      <td>0</td>\n",
       "      <td>0</td>\n",
       "      <td>0</td>\n",
       "    </tr>\n",
       "    <tr>\n",
       "      <th>2</th>\n",
       "      <td>1</td>\n",
       "      <td>7</td>\n",
       "      <td>27</td>\n",
       "      <td>0</td>\n",
       "      <td>0</td>\n",
       "      <td>0</td>\n",
       "    </tr>\n",
       "    <tr>\n",
       "      <th>3</th>\n",
       "      <td>0</td>\n",
       "      <td>0</td>\n",
       "      <td>48</td>\n",
       "      <td>0</td>\n",
       "      <td>0</td>\n",
       "      <td>0</td>\n",
       "    </tr>\n",
       "    <tr>\n",
       "      <th>4</th>\n",
       "      <td>0</td>\n",
       "      <td>0</td>\n",
       "      <td>24</td>\n",
       "      <td>0</td>\n",
       "      <td>0</td>\n",
       "      <td>0</td>\n",
       "    </tr>\n",
       "  </tbody>\n",
       "</table>\n",
       "</div>"
      ],
      "text/plain": [
       "   user_settings_crypto_unlocked  num_contacts  age  countries  plans  brands\n",
       "0                              1             3   30          0      0       0\n",
       "1                              0             0   31          0      0       0\n",
       "2                              1             7   27          0      0       0\n",
       "3                              0             0   48          0      0       0\n",
       "4                              0             0   24          0      0       0"
      ]
     },
     "execution_count": 48,
     "metadata": {},
     "output_type": "execute_result"
    }
   ],
   "source": [
    "# independent variables\n",
    "df_x = df.drop(['engagement_score'], axis=1)\n",
    "df_x.head()\n"
   ]
  },
  {
   "cell_type": "code",
   "execution_count": 49,
   "metadata": {},
   "outputs": [
    {
     "data": {
      "text/html": [
       "<style  type=\"text/css\" >\n",
       "    #T_081d60cc_cf16_11e9_bb40_acde48001122row0_col0 {\n",
       "            background-color:  #b40426;\n",
       "            color:  #f1f1f1;\n",
       "        }    #T_081d60cc_cf16_11e9_bb40_acde48001122row0_col1 {\n",
       "            background-color:  #7b9ff9;\n",
       "            color:  #000000;\n",
       "        }    #T_081d60cc_cf16_11e9_bb40_acde48001122row0_col2 {\n",
       "            background-color:  #7a9df8;\n",
       "            color:  #000000;\n",
       "        }    #T_081d60cc_cf16_11e9_bb40_acde48001122row0_col3 {\n",
       "            background-color:  #3b4cc0;\n",
       "            color:  #f1f1f1;\n",
       "        }    #T_081d60cc_cf16_11e9_bb40_acde48001122row0_col4 {\n",
       "            background-color:  #6180e9;\n",
       "            color:  #000000;\n",
       "        }    #T_081d60cc_cf16_11e9_bb40_acde48001122row0_col5 {\n",
       "            background-color:  #9dbdff;\n",
       "            color:  #000000;\n",
       "        }    #T_081d60cc_cf16_11e9_bb40_acde48001122row0_col6 {\n",
       "            background-color:  #5b7ae5;\n",
       "            color:  #000000;\n",
       "        }    #T_081d60cc_cf16_11e9_bb40_acde48001122row1_col0 {\n",
       "            background-color:  #7b9ff9;\n",
       "            color:  #000000;\n",
       "        }    #T_081d60cc_cf16_11e9_bb40_acde48001122row1_col1 {\n",
       "            background-color:  #b40426;\n",
       "            color:  #f1f1f1;\n",
       "        }    #T_081d60cc_cf16_11e9_bb40_acde48001122row1_col2 {\n",
       "            background-color:  #6687ed;\n",
       "            color:  #000000;\n",
       "        }    #T_081d60cc_cf16_11e9_bb40_acde48001122row1_col3 {\n",
       "            background-color:  #506bda;\n",
       "            color:  #000000;\n",
       "        }    #T_081d60cc_cf16_11e9_bb40_acde48001122row1_col4 {\n",
       "            background-color:  #7699f6;\n",
       "            color:  #000000;\n",
       "        }    #T_081d60cc_cf16_11e9_bb40_acde48001122row1_col5 {\n",
       "            background-color:  #9dbdff;\n",
       "            color:  #000000;\n",
       "        }    #T_081d60cc_cf16_11e9_bb40_acde48001122row1_col6 {\n",
       "            background-color:  #6f92f3;\n",
       "            color:  #000000;\n",
       "        }    #T_081d60cc_cf16_11e9_bb40_acde48001122row2_col0 {\n",
       "            background-color:  #7a9df8;\n",
       "            color:  #000000;\n",
       "        }    #T_081d60cc_cf16_11e9_bb40_acde48001122row2_col1 {\n",
       "            background-color:  #6687ed;\n",
       "            color:  #000000;\n",
       "        }    #T_081d60cc_cf16_11e9_bb40_acde48001122row2_col2 {\n",
       "            background-color:  #b40426;\n",
       "            color:  #f1f1f1;\n",
       "        }    #T_081d60cc_cf16_11e9_bb40_acde48001122row2_col3 {\n",
       "            background-color:  #5b7ae5;\n",
       "            color:  #000000;\n",
       "        }    #T_081d60cc_cf16_11e9_bb40_acde48001122row2_col4 {\n",
       "            background-color:  #85a8fc;\n",
       "            color:  #000000;\n",
       "        }    #T_081d60cc_cf16_11e9_bb40_acde48001122row2_col5 {\n",
       "            background-color:  #6e90f2;\n",
       "            color:  #000000;\n",
       "        }    #T_081d60cc_cf16_11e9_bb40_acde48001122row2_col6 {\n",
       "            background-color:  #536edd;\n",
       "            color:  #000000;\n",
       "        }    #T_081d60cc_cf16_11e9_bb40_acde48001122row3_col0 {\n",
       "            background-color:  #3b4cc0;\n",
       "            color:  #f1f1f1;\n",
       "        }    #T_081d60cc_cf16_11e9_bb40_acde48001122row3_col1 {\n",
       "            background-color:  #506bda;\n",
       "            color:  #000000;\n",
       "        }    #T_081d60cc_cf16_11e9_bb40_acde48001122row3_col2 {\n",
       "            background-color:  #5b7ae5;\n",
       "            color:  #000000;\n",
       "        }    #T_081d60cc_cf16_11e9_bb40_acde48001122row3_col3 {\n",
       "            background-color:  #b40426;\n",
       "            color:  #f1f1f1;\n",
       "        }    #T_081d60cc_cf16_11e9_bb40_acde48001122row3_col4 {\n",
       "            background-color:  #6384eb;\n",
       "            color:  #000000;\n",
       "        }    #T_081d60cc_cf16_11e9_bb40_acde48001122row3_col5 {\n",
       "            background-color:  #7093f3;\n",
       "            color:  #000000;\n",
       "        }    #T_081d60cc_cf16_11e9_bb40_acde48001122row3_col6 {\n",
       "            background-color:  #6282ea;\n",
       "            color:  #000000;\n",
       "        }    #T_081d60cc_cf16_11e9_bb40_acde48001122row4_col0 {\n",
       "            background-color:  #6180e9;\n",
       "            color:  #000000;\n",
       "        }    #T_081d60cc_cf16_11e9_bb40_acde48001122row4_col1 {\n",
       "            background-color:  #7699f6;\n",
       "            color:  #000000;\n",
       "        }    #T_081d60cc_cf16_11e9_bb40_acde48001122row4_col2 {\n",
       "            background-color:  #85a8fc;\n",
       "            color:  #000000;\n",
       "        }    #T_081d60cc_cf16_11e9_bb40_acde48001122row4_col3 {\n",
       "            background-color:  #6384eb;\n",
       "            color:  #000000;\n",
       "        }    #T_081d60cc_cf16_11e9_bb40_acde48001122row4_col4 {\n",
       "            background-color:  #b40426;\n",
       "            color:  #f1f1f1;\n",
       "        }    #T_081d60cc_cf16_11e9_bb40_acde48001122row4_col5 {\n",
       "            background-color:  #6788ee;\n",
       "            color:  #000000;\n",
       "        }    #T_081d60cc_cf16_11e9_bb40_acde48001122row4_col6 {\n",
       "            background-color:  #6c8ff1;\n",
       "            color:  #000000;\n",
       "        }    #T_081d60cc_cf16_11e9_bb40_acde48001122row5_col0 {\n",
       "            background-color:  #9dbdff;\n",
       "            color:  #000000;\n",
       "        }    #T_081d60cc_cf16_11e9_bb40_acde48001122row5_col1 {\n",
       "            background-color:  #9dbdff;\n",
       "            color:  #000000;\n",
       "        }    #T_081d60cc_cf16_11e9_bb40_acde48001122row5_col2 {\n",
       "            background-color:  #6e90f2;\n",
       "            color:  #000000;\n",
       "        }    #T_081d60cc_cf16_11e9_bb40_acde48001122row5_col3 {\n",
       "            background-color:  #7093f3;\n",
       "            color:  #000000;\n",
       "        }    #T_081d60cc_cf16_11e9_bb40_acde48001122row5_col4 {\n",
       "            background-color:  #6788ee;\n",
       "            color:  #000000;\n",
       "        }    #T_081d60cc_cf16_11e9_bb40_acde48001122row5_col5 {\n",
       "            background-color:  #b40426;\n",
       "            color:  #f1f1f1;\n",
       "        }    #T_081d60cc_cf16_11e9_bb40_acde48001122row5_col6 {\n",
       "            background-color:  #536edd;\n",
       "            color:  #000000;\n",
       "        }    #T_081d60cc_cf16_11e9_bb40_acde48001122row6_col0 {\n",
       "            background-color:  #5b7ae5;\n",
       "            color:  #000000;\n",
       "        }    #T_081d60cc_cf16_11e9_bb40_acde48001122row6_col1 {\n",
       "            background-color:  #6f92f3;\n",
       "            color:  #000000;\n",
       "        }    #T_081d60cc_cf16_11e9_bb40_acde48001122row6_col2 {\n",
       "            background-color:  #536edd;\n",
       "            color:  #000000;\n",
       "        }    #T_081d60cc_cf16_11e9_bb40_acde48001122row6_col3 {\n",
       "            background-color:  #6282ea;\n",
       "            color:  #000000;\n",
       "        }    #T_081d60cc_cf16_11e9_bb40_acde48001122row6_col4 {\n",
       "            background-color:  #6c8ff1;\n",
       "            color:  #000000;\n",
       "        }    #T_081d60cc_cf16_11e9_bb40_acde48001122row6_col5 {\n",
       "            background-color:  #536edd;\n",
       "            color:  #000000;\n",
       "        }    #T_081d60cc_cf16_11e9_bb40_acde48001122row6_col6 {\n",
       "            background-color:  #b40426;\n",
       "            color:  #f1f1f1;\n",
       "        }</style><table id=\"T_081d60cc_cf16_11e9_bb40_acde48001122\" ><thead>    <tr>        <th class=\"blank level0\" ></th>        <th class=\"col_heading level0 col0\" >engagement_score</th>        <th class=\"col_heading level0 col1\" >user_settings_crypto_unlocked</th>        <th class=\"col_heading level0 col2\" >num_contacts</th>        <th class=\"col_heading level0 col3\" >age</th>        <th class=\"col_heading level0 col4\" >countries</th>        <th class=\"col_heading level0 col5\" >plans</th>        <th class=\"col_heading level0 col6\" >brands</th>    </tr></thead><tbody>\n",
       "                <tr>\n",
       "                        <th id=\"T_081d60cc_cf16_11e9_bb40_acde48001122level0_row0\" class=\"row_heading level0 row0\" >engagement_score</th>\n",
       "                        <td id=\"T_081d60cc_cf16_11e9_bb40_acde48001122row0_col0\" class=\"data row0 col0\" >1</td>\n",
       "                        <td id=\"T_081d60cc_cf16_11e9_bb40_acde48001122row0_col1\" class=\"data row0 col1\" >0.085</td>\n",
       "                        <td id=\"T_081d60cc_cf16_11e9_bb40_acde48001122row0_col2\" class=\"data row0 col2\" >0.083</td>\n",
       "                        <td id=\"T_081d60cc_cf16_11e9_bb40_acde48001122row0_col3\" class=\"data row0 col3\" >-0.14</td>\n",
       "                        <td id=\"T_081d60cc_cf16_11e9_bb40_acde48001122row0_col4\" class=\"data row0 col4\" >-0.0027</td>\n",
       "                        <td id=\"T_081d60cc_cf16_11e9_bb40_acde48001122row0_col5\" class=\"data row0 col5\" >0.19</td>\n",
       "                        <td id=\"T_081d60cc_cf16_11e9_bb40_acde48001122row0_col6\" class=\"data row0 col6\" >-0.022</td>\n",
       "            </tr>\n",
       "            <tr>\n",
       "                        <th id=\"T_081d60cc_cf16_11e9_bb40_acde48001122level0_row1\" class=\"row_heading level0 row1\" >user_settings_crypto_unlocked</th>\n",
       "                        <td id=\"T_081d60cc_cf16_11e9_bb40_acde48001122row1_col0\" class=\"data row1 col0\" >0.085</td>\n",
       "                        <td id=\"T_081d60cc_cf16_11e9_bb40_acde48001122row1_col1\" class=\"data row1 col1\" >1</td>\n",
       "                        <td id=\"T_081d60cc_cf16_11e9_bb40_acde48001122row1_col2\" class=\"data row1 col2\" >0.016</td>\n",
       "                        <td id=\"T_081d60cc_cf16_11e9_bb40_acde48001122row1_col3\" class=\"data row1 col3\" >-0.062</td>\n",
       "                        <td id=\"T_081d60cc_cf16_11e9_bb40_acde48001122row1_col4\" class=\"data row1 col4\" >0.071</td>\n",
       "                        <td id=\"T_081d60cc_cf16_11e9_bb40_acde48001122row1_col5\" class=\"data row1 col5\" >0.19</td>\n",
       "                        <td id=\"T_081d60cc_cf16_11e9_bb40_acde48001122row1_col6\" class=\"data row1 col6\" >0.046</td>\n",
       "            </tr>\n",
       "            <tr>\n",
       "                        <th id=\"T_081d60cc_cf16_11e9_bb40_acde48001122level0_row2\" class=\"row_heading level0 row2\" >num_contacts</th>\n",
       "                        <td id=\"T_081d60cc_cf16_11e9_bb40_acde48001122row2_col0\" class=\"data row2 col0\" >0.083</td>\n",
       "                        <td id=\"T_081d60cc_cf16_11e9_bb40_acde48001122row2_col1\" class=\"data row2 col1\" >0.016</td>\n",
       "                        <td id=\"T_081d60cc_cf16_11e9_bb40_acde48001122row2_col2\" class=\"data row2 col2\" >1</td>\n",
       "                        <td id=\"T_081d60cc_cf16_11e9_bb40_acde48001122row2_col3\" class=\"data row2 col3\" >-0.02</td>\n",
       "                        <td id=\"T_081d60cc_cf16_11e9_bb40_acde48001122row2_col4\" class=\"data row2 col4\" >0.12</td>\n",
       "                        <td id=\"T_081d60cc_cf16_11e9_bb40_acde48001122row2_col5\" class=\"data row2 col5\" >0.041</td>\n",
       "                        <td id=\"T_081d60cc_cf16_11e9_bb40_acde48001122row2_col6\" class=\"data row2 col6\" >-0.053</td>\n",
       "            </tr>\n",
       "            <tr>\n",
       "                        <th id=\"T_081d60cc_cf16_11e9_bb40_acde48001122level0_row3\" class=\"row_heading level0 row3\" >age</th>\n",
       "                        <td id=\"T_081d60cc_cf16_11e9_bb40_acde48001122row3_col0\" class=\"data row3 col0\" >-0.14</td>\n",
       "                        <td id=\"T_081d60cc_cf16_11e9_bb40_acde48001122row3_col1\" class=\"data row3 col1\" >-0.062</td>\n",
       "                        <td id=\"T_081d60cc_cf16_11e9_bb40_acde48001122row3_col2\" class=\"data row3 col2\" >-0.02</td>\n",
       "                        <td id=\"T_081d60cc_cf16_11e9_bb40_acde48001122row3_col3\" class=\"data row3 col3\" >1</td>\n",
       "                        <td id=\"T_081d60cc_cf16_11e9_bb40_acde48001122row3_col4\" class=\"data row3 col4\" >0.0057</td>\n",
       "                        <td id=\"T_081d60cc_cf16_11e9_bb40_acde48001122row3_col5\" class=\"data row3 col5\" >0.05</td>\n",
       "                        <td id=\"T_081d60cc_cf16_11e9_bb40_acde48001122row3_col6\" class=\"data row3 col6\" >0.0023</td>\n",
       "            </tr>\n",
       "            <tr>\n",
       "                        <th id=\"T_081d60cc_cf16_11e9_bb40_acde48001122level0_row4\" class=\"row_heading level0 row4\" >countries</th>\n",
       "                        <td id=\"T_081d60cc_cf16_11e9_bb40_acde48001122row4_col0\" class=\"data row4 col0\" >-0.0027</td>\n",
       "                        <td id=\"T_081d60cc_cf16_11e9_bb40_acde48001122row4_col1\" class=\"data row4 col1\" >0.071</td>\n",
       "                        <td id=\"T_081d60cc_cf16_11e9_bb40_acde48001122row4_col2\" class=\"data row4 col2\" >0.12</td>\n",
       "                        <td id=\"T_081d60cc_cf16_11e9_bb40_acde48001122row4_col3\" class=\"data row4 col3\" >0.0057</td>\n",
       "                        <td id=\"T_081d60cc_cf16_11e9_bb40_acde48001122row4_col4\" class=\"data row4 col4\" >1</td>\n",
       "                        <td id=\"T_081d60cc_cf16_11e9_bb40_acde48001122row4_col5\" class=\"data row4 col5\" >0.022</td>\n",
       "                        <td id=\"T_081d60cc_cf16_11e9_bb40_acde48001122row4_col6\" class=\"data row4 col6\" >0.038</td>\n",
       "            </tr>\n",
       "            <tr>\n",
       "                        <th id=\"T_081d60cc_cf16_11e9_bb40_acde48001122level0_row5\" class=\"row_heading level0 row5\" >plans</th>\n",
       "                        <td id=\"T_081d60cc_cf16_11e9_bb40_acde48001122row5_col0\" class=\"data row5 col0\" >0.19</td>\n",
       "                        <td id=\"T_081d60cc_cf16_11e9_bb40_acde48001122row5_col1\" class=\"data row5 col1\" >0.19</td>\n",
       "                        <td id=\"T_081d60cc_cf16_11e9_bb40_acde48001122row5_col2\" class=\"data row5 col2\" >0.041</td>\n",
       "                        <td id=\"T_081d60cc_cf16_11e9_bb40_acde48001122row5_col3\" class=\"data row5 col3\" >0.05</td>\n",
       "                        <td id=\"T_081d60cc_cf16_11e9_bb40_acde48001122row5_col4\" class=\"data row5 col4\" >0.022</td>\n",
       "                        <td id=\"T_081d60cc_cf16_11e9_bb40_acde48001122row5_col5\" class=\"data row5 col5\" >1</td>\n",
       "                        <td id=\"T_081d60cc_cf16_11e9_bb40_acde48001122row5_col6\" class=\"data row5 col6\" >-0.05</td>\n",
       "            </tr>\n",
       "            <tr>\n",
       "                        <th id=\"T_081d60cc_cf16_11e9_bb40_acde48001122level0_row6\" class=\"row_heading level0 row6\" >brands</th>\n",
       "                        <td id=\"T_081d60cc_cf16_11e9_bb40_acde48001122row6_col0\" class=\"data row6 col0\" >-0.022</td>\n",
       "                        <td id=\"T_081d60cc_cf16_11e9_bb40_acde48001122row6_col1\" class=\"data row6 col1\" >0.046</td>\n",
       "                        <td id=\"T_081d60cc_cf16_11e9_bb40_acde48001122row6_col2\" class=\"data row6 col2\" >-0.053</td>\n",
       "                        <td id=\"T_081d60cc_cf16_11e9_bb40_acde48001122row6_col3\" class=\"data row6 col3\" >0.0023</td>\n",
       "                        <td id=\"T_081d60cc_cf16_11e9_bb40_acde48001122row6_col4\" class=\"data row6 col4\" >0.038</td>\n",
       "                        <td id=\"T_081d60cc_cf16_11e9_bb40_acde48001122row6_col5\" class=\"data row6 col5\" >-0.05</td>\n",
       "                        <td id=\"T_081d60cc_cf16_11e9_bb40_acde48001122row6_col6\" class=\"data row6 col6\" >1</td>\n",
       "            </tr>\n",
       "    </tbody></table>"
      ],
      "text/plain": [
       "<pandas.io.formats.style.Styler at 0x1a342a4550>"
      ]
     },
     "execution_count": 49,
     "metadata": {},
     "output_type": "execute_result"
    }
   ],
   "source": [
    "# correlation matrix\n",
    "corr = df.corr()\n",
    "corr.style.background_gradient(cmap='coolwarm', axis=None).set_precision(2)\n"
   ]
  },
  {
   "cell_type": "markdown",
   "metadata": {},
   "source": [
    "### Model"
   ]
  },
  {
   "cell_type": "code",
   "execution_count": 50,
   "metadata": {},
   "outputs": [],
   "source": [
    "# XGBoost, hyperparameter tuning\n",
    "gbm = xgb.XGBRegressor()\n",
    "reg_cv = GridSearchCV(gbm, {'max_depth':[6,7,8], \n",
    "                            'n_estimators':[300,500,700]}, \n",
    "                      verbose=1, cv=3, n_jobs=-1)\n"
   ]
  },
  {
   "cell_type": "code",
   "execution_count": 51,
   "metadata": {},
   "outputs": [
    {
     "name": "stdout",
     "output_type": "stream",
     "text": [
      "Fitting 3 folds for each of 9 candidates, totalling 27 fits\n"
     ]
    },
    {
     "name": "stderr",
     "output_type": "stream",
     "text": [
      "[Parallel(n_jobs=-1)]: Using backend LokyBackend with 4 concurrent workers.\n",
      "[Parallel(n_jobs=-1)]: Done  27 out of  27 | elapsed:   41.7s finished\n"
     ]
    },
    {
     "data": {
      "text/plain": [
       "GridSearchCV(cv=3, error_score='raise-deprecating',\n",
       "       estimator=XGBRegressor(base_score=0.5, booster='gbtree', colsample_bylevel=1,\n",
       "       colsample_bytree=1, gamma=0, learning_rate=0.1, max_delta_step=0,\n",
       "       max_depth=3, min_child_weight=1, missing=None, n_estimators=100,\n",
       "       n_jobs=1, nthread=None, objective='reg:linear', random_state=0,\n",
       "       reg_alpha=0, reg_lambda=1, scale_pos_weight=1, seed=None,\n",
       "       silent=True, subsample=1),\n",
       "       fit_params=None, iid='warn', n_jobs=-1,\n",
       "       param_grid={'max_depth': [6, 7, 8], 'n_estimators': [300, 500, 700]},\n",
       "       pre_dispatch='2*n_jobs', refit=True, return_train_score='warn',\n",
       "       scoring=None, verbose=1)"
      ]
     },
     "execution_count": 51,
     "metadata": {},
     "output_type": "execute_result"
    }
   ],
   "source": [
    "# fitting the model on the data\n",
    "reg_cv.fit(df_x, df_y)\n"
   ]
  },
  {
   "cell_type": "code",
   "execution_count": 52,
   "metadata": {},
   "outputs": [
    {
     "data": {
      "text/plain": [
       "{'max_depth': 6, 'n_estimators': 300}"
      ]
     },
     "execution_count": 52,
     "metadata": {},
     "output_type": "execute_result"
    }
   ],
   "source": [
    "# selecting best parameters\n",
    "reg_cv.best_params_\n"
   ]
  },
  {
   "cell_type": "code",
   "execution_count": 53,
   "metadata": {},
   "outputs": [
    {
     "data": {
      "text/plain": [
       "XGBRegressor(base_score=0.5, booster='gbtree', colsample_bylevel=1,\n",
       "       colsample_bytree=1, gamma=0, learning_rate=0.1, max_delta_step=0,\n",
       "       max_depth=6, min_child_weight=1, missing=None, n_estimators=300,\n",
       "       n_jobs=1, nthread=None, objective='reg:linear', random_state=0,\n",
       "       reg_alpha=0, reg_lambda=1, scale_pos_weight=1, seed=None,\n",
       "       silent=True, subsample=1)"
      ]
     },
     "execution_count": 53,
     "metadata": {},
     "output_type": "execute_result"
    }
   ],
   "source": [
    "# fitting the model with best parameters\n",
    "gbm = xgb.XGBRegressor(**reg_cv.best_params_)\n",
    "gbm.fit(df_x, df_y)\n"
   ]
  },
  {
   "cell_type": "code",
   "execution_count": 54,
   "metadata": {},
   "outputs": [
    {
     "data": {
      "text/plain": [
       "3.5744236"
      ]
     },
     "execution_count": 54,
     "metadata": {},
     "output_type": "execute_result"
    }
   ],
   "source": [
    "# predicting outcome and checking mean value of user engagement score\n",
    "predictions = gbm.predict(df_x)\n",
    "np.mean(predictions)\n"
   ]
  },
  {
   "cell_type": "code",
   "execution_count": 55,
   "metadata": {},
   "outputs": [
    {
     "name": "stdout",
     "output_type": "stream",
     "text": [
      "RMSE: 2.878471\n"
     ]
    }
   ],
   "source": [
    "# evaluating the model\n",
    "rmse = np.sqrt(mean_squared_error(df_y, predictions))\n",
    "print(\"RMSE: %f\" % (rmse))\n"
   ]
  },
  {
   "cell_type": "code",
   "execution_count": 56,
   "metadata": {},
   "outputs": [
    {
     "data": {
      "text/html": [
       "<div>\n",
       "<style scoped>\n",
       "    .dataframe tbody tr th:only-of-type {\n",
       "        vertical-align: middle;\n",
       "    }\n",
       "\n",
       "    .dataframe tbody tr th {\n",
       "        vertical-align: top;\n",
       "    }\n",
       "\n",
       "    .dataframe thead th {\n",
       "        text-align: right;\n",
       "    }\n",
       "</style>\n",
       "<table border=\"1\" class=\"dataframe\">\n",
       "  <thead>\n",
       "    <tr style=\"text-align: right;\">\n",
       "      <th></th>\n",
       "      <th>user_settings_crypto_unlocked</th>\n",
       "      <th>num_contacts</th>\n",
       "      <th>age</th>\n",
       "      <th>countries</th>\n",
       "      <th>plans</th>\n",
       "      <th>brands</th>\n",
       "    </tr>\n",
       "  </thead>\n",
       "  <tbody>\n",
       "    <tr>\n",
       "      <th>0</th>\n",
       "      <td>1</td>\n",
       "      <td>3</td>\n",
       "      <td>30</td>\n",
       "      <td>0</td>\n",
       "      <td>0</td>\n",
       "      <td>0</td>\n",
       "    </tr>\n",
       "    <tr>\n",
       "      <th>2</th>\n",
       "      <td>1</td>\n",
       "      <td>7</td>\n",
       "      <td>27</td>\n",
       "      <td>0</td>\n",
       "      <td>0</td>\n",
       "      <td>0</td>\n",
       "    </tr>\n",
       "    <tr>\n",
       "      <th>12</th>\n",
       "      <td>1</td>\n",
       "      <td>0</td>\n",
       "      <td>26</td>\n",
       "      <td>0</td>\n",
       "      <td>0</td>\n",
       "      <td>0</td>\n",
       "    </tr>\n",
       "    <tr>\n",
       "      <th>15</th>\n",
       "      <td>1</td>\n",
       "      <td>3</td>\n",
       "      <td>26</td>\n",
       "      <td>0</td>\n",
       "      <td>0</td>\n",
       "      <td>0</td>\n",
       "    </tr>\n",
       "    <tr>\n",
       "      <th>39</th>\n",
       "      <td>1</td>\n",
       "      <td>35</td>\n",
       "      <td>27</td>\n",
       "      <td>0</td>\n",
       "      <td>0</td>\n",
       "      <td>0</td>\n",
       "    </tr>\n",
       "  </tbody>\n",
       "</table>\n",
       "</div>"
      ],
      "text/plain": [
       "    user_settings_crypto_unlocked  num_contacts  age  countries  plans  brands\n",
       "0                               1             3   30          0      0       0\n",
       "2                               1             7   27          0      0       0\n",
       "12                              1             0   26          0      0       0\n",
       "15                              1             3   26          0      0       0\n",
       "39                              1            35   27          0      0       0"
      ]
     },
     "execution_count": 56,
     "metadata": {},
     "output_type": "execute_result"
    }
   ],
   "source": [
    "# exploring crypto\n",
    "df_x_crypto = df_x[df_x['user_settings_crypto_unlocked']==1]\n",
    "df_x_crypto.head()\n"
   ]
  },
  {
   "cell_type": "code",
   "execution_count": 57,
   "metadata": {},
   "outputs": [
    {
     "data": {
      "text/html": [
       "<div>\n",
       "<style scoped>\n",
       "    .dataframe tbody tr th:only-of-type {\n",
       "        vertical-align: middle;\n",
       "    }\n",
       "\n",
       "    .dataframe tbody tr th {\n",
       "        vertical-align: top;\n",
       "    }\n",
       "\n",
       "    .dataframe thead th {\n",
       "        text-align: right;\n",
       "    }\n",
       "</style>\n",
       "<table border=\"1\" class=\"dataframe\">\n",
       "  <thead>\n",
       "    <tr style=\"text-align: right;\">\n",
       "      <th></th>\n",
       "      <th>user_settings_crypto_unlocked</th>\n",
       "      <th>num_contacts</th>\n",
       "      <th>age</th>\n",
       "      <th>countries</th>\n",
       "      <th>plans</th>\n",
       "      <th>brands</th>\n",
       "    </tr>\n",
       "  </thead>\n",
       "  <tbody>\n",
       "    <tr>\n",
       "      <th>56</th>\n",
       "      <td>0</td>\n",
       "      <td>55</td>\n",
       "      <td>33</td>\n",
       "      <td>0</td>\n",
       "      <td>0</td>\n",
       "      <td>0</td>\n",
       "    </tr>\n",
       "    <tr>\n",
       "      <th>59</th>\n",
       "      <td>1</td>\n",
       "      <td>55</td>\n",
       "      <td>23</td>\n",
       "      <td>0</td>\n",
       "      <td>0</td>\n",
       "      <td>0</td>\n",
       "    </tr>\n",
       "    <tr>\n",
       "      <th>1019</th>\n",
       "      <td>0</td>\n",
       "      <td>55</td>\n",
       "      <td>25</td>\n",
       "      <td>1</td>\n",
       "      <td>0</td>\n",
       "      <td>0</td>\n",
       "    </tr>\n",
       "    <tr>\n",
       "      <th>1638</th>\n",
       "      <td>0</td>\n",
       "      <td>55</td>\n",
       "      <td>28</td>\n",
       "      <td>1</td>\n",
       "      <td>0</td>\n",
       "      <td>0</td>\n",
       "    </tr>\n",
       "    <tr>\n",
       "      <th>4291</th>\n",
       "      <td>0</td>\n",
       "      <td>55</td>\n",
       "      <td>28</td>\n",
       "      <td>2</td>\n",
       "      <td>0</td>\n",
       "      <td>0</td>\n",
       "    </tr>\n",
       "  </tbody>\n",
       "</table>\n",
       "</div>"
      ],
      "text/plain": [
       "      user_settings_crypto_unlocked  num_contacts  age  countries  plans  \\\n",
       "56                                0            55   33          0      0   \n",
       "59                                1            55   23          0      0   \n",
       "1019                              0            55   25          1      0   \n",
       "1638                              0            55   28          1      0   \n",
       "4291                              0            55   28          2      0   \n",
       "\n",
       "      brands  \n",
       "56         0  \n",
       "59         0  \n",
       "1019       0  \n",
       "1638       0  \n",
       "4291       0  "
      ]
     },
     "execution_count": 57,
     "metadata": {},
     "output_type": "execute_result"
    }
   ],
   "source": [
    "# exploring contacts \n",
    "df_x_contacts = df_x[df_x['num_contacts']==55]\n",
    "df_x_contacts.head()\n"
   ]
  },
  {
   "cell_type": "code",
   "execution_count": 58,
   "metadata": {},
   "outputs": [
    {
     "data": {
      "text/html": [
       "<div>\n",
       "<style scoped>\n",
       "    .dataframe tbody tr th:only-of-type {\n",
       "        vertical-align: middle;\n",
       "    }\n",
       "\n",
       "    .dataframe tbody tr th {\n",
       "        vertical-align: top;\n",
       "    }\n",
       "\n",
       "    .dataframe thead th {\n",
       "        text-align: right;\n",
       "    }\n",
       "</style>\n",
       "<table border=\"1\" class=\"dataframe\">\n",
       "  <thead>\n",
       "    <tr style=\"text-align: right;\">\n",
       "      <th></th>\n",
       "      <th>user_settings_crypto_unlocked</th>\n",
       "      <th>num_contacts</th>\n",
       "      <th>age</th>\n",
       "      <th>countries</th>\n",
       "      <th>plans</th>\n",
       "      <th>brands</th>\n",
       "    </tr>\n",
       "  </thead>\n",
       "  <tbody>\n",
       "    <tr>\n",
       "      <th>21</th>\n",
       "      <td>0</td>\n",
       "      <td>0</td>\n",
       "      <td>25</td>\n",
       "      <td>0</td>\n",
       "      <td>0</td>\n",
       "      <td>0</td>\n",
       "    </tr>\n",
       "    <tr>\n",
       "      <th>35</th>\n",
       "      <td>0</td>\n",
       "      <td>1</td>\n",
       "      <td>25</td>\n",
       "      <td>0</td>\n",
       "      <td>0</td>\n",
       "      <td>0</td>\n",
       "    </tr>\n",
       "    <tr>\n",
       "      <th>40</th>\n",
       "      <td>0</td>\n",
       "      <td>0</td>\n",
       "      <td>25</td>\n",
       "      <td>0</td>\n",
       "      <td>0</td>\n",
       "      <td>0</td>\n",
       "    </tr>\n",
       "    <tr>\n",
       "      <th>67</th>\n",
       "      <td>0</td>\n",
       "      <td>19</td>\n",
       "      <td>25</td>\n",
       "      <td>0</td>\n",
       "      <td>0</td>\n",
       "      <td>0</td>\n",
       "    </tr>\n",
       "    <tr>\n",
       "      <th>89</th>\n",
       "      <td>0</td>\n",
       "      <td>0</td>\n",
       "      <td>25</td>\n",
       "      <td>0</td>\n",
       "      <td>0</td>\n",
       "      <td>0</td>\n",
       "    </tr>\n",
       "  </tbody>\n",
       "</table>\n",
       "</div>"
      ],
      "text/plain": [
       "    user_settings_crypto_unlocked  num_contacts  age  countries  plans  brands\n",
       "21                              0             0   25          0      0       0\n",
       "35                              0             1   25          0      0       0\n",
       "40                              0             0   25          0      0       0\n",
       "67                              0            19   25          0      0       0\n",
       "89                              0             0   25          0      0       0"
      ]
     },
     "execution_count": 58,
     "metadata": {},
     "output_type": "execute_result"
    }
   ],
   "source": [
    "# exploring age \n",
    "df_x_age = df_x[df_x['age']==25]\n",
    "df_x_age.head()\n"
   ]
  },
  {
   "cell_type": "code",
   "execution_count": 59,
   "metadata": {},
   "outputs": [
    {
     "data": {
      "text/html": [
       "<div>\n",
       "<style scoped>\n",
       "    .dataframe tbody tr th:only-of-type {\n",
       "        vertical-align: middle;\n",
       "    }\n",
       "\n",
       "    .dataframe tbody tr th {\n",
       "        vertical-align: top;\n",
       "    }\n",
       "\n",
       "    .dataframe thead th {\n",
       "        text-align: right;\n",
       "    }\n",
       "</style>\n",
       "<table border=\"1\" class=\"dataframe\">\n",
       "  <thead>\n",
       "    <tr style=\"text-align: right;\">\n",
       "      <th></th>\n",
       "      <th>user_settings_crypto_unlocked</th>\n",
       "      <th>num_contacts</th>\n",
       "      <th>age</th>\n",
       "      <th>countries</th>\n",
       "      <th>plans</th>\n",
       "      <th>brands</th>\n",
       "    </tr>\n",
       "  </thead>\n",
       "  <tbody>\n",
       "    <tr>\n",
       "      <th>7197</th>\n",
       "      <td>0</td>\n",
       "      <td>6</td>\n",
       "      <td>33</td>\n",
       "      <td>24</td>\n",
       "      <td>0</td>\n",
       "      <td>0</td>\n",
       "    </tr>\n",
       "    <tr>\n",
       "      <th>7198</th>\n",
       "      <td>0</td>\n",
       "      <td>19</td>\n",
       "      <td>31</td>\n",
       "      <td>24</td>\n",
       "      <td>0</td>\n",
       "      <td>0</td>\n",
       "    </tr>\n",
       "    <tr>\n",
       "      <th>7199</th>\n",
       "      <td>0</td>\n",
       "      <td>0</td>\n",
       "      <td>51</td>\n",
       "      <td>24</td>\n",
       "      <td>0</td>\n",
       "      <td>0</td>\n",
       "    </tr>\n",
       "    <tr>\n",
       "      <th>7200</th>\n",
       "      <td>0</td>\n",
       "      <td>1</td>\n",
       "      <td>52</td>\n",
       "      <td>24</td>\n",
       "      <td>0</td>\n",
       "      <td>0</td>\n",
       "    </tr>\n",
       "    <tr>\n",
       "      <th>7201</th>\n",
       "      <td>1</td>\n",
       "      <td>0</td>\n",
       "      <td>35</td>\n",
       "      <td>24</td>\n",
       "      <td>0</td>\n",
       "      <td>0</td>\n",
       "    </tr>\n",
       "  </tbody>\n",
       "</table>\n",
       "</div>"
      ],
      "text/plain": [
       "      user_settings_crypto_unlocked  num_contacts  age  countries  plans  \\\n",
       "7197                              0             6   33         24      0   \n",
       "7198                              0            19   31         24      0   \n",
       "7199                              0             0   51         24      0   \n",
       "7200                              0             1   52         24      0   \n",
       "7201                              1             0   35         24      0   \n",
       "\n",
       "      brands  \n",
       "7197       0  \n",
       "7198       0  \n",
       "7199       0  \n",
       "7200       0  \n",
       "7201       0  "
      ]
     },
     "execution_count": 59,
     "metadata": {},
     "output_type": "execute_result"
    }
   ],
   "source": [
    "# exploring countries\n",
    "df_x_country = df_x[df_x['countries']==24]\n",
    "df_x_country.head()\n"
   ]
  },
  {
   "cell_type": "code",
   "execution_count": 60,
   "metadata": {},
   "outputs": [
    {
     "data": {
      "text/html": [
       "<div>\n",
       "<style scoped>\n",
       "    .dataframe tbody tr th:only-of-type {\n",
       "        vertical-align: middle;\n",
       "    }\n",
       "\n",
       "    .dataframe tbody tr th {\n",
       "        vertical-align: top;\n",
       "    }\n",
       "\n",
       "    .dataframe thead th {\n",
       "        text-align: right;\n",
       "    }\n",
       "</style>\n",
       "<table border=\"1\" class=\"dataframe\">\n",
       "  <thead>\n",
       "    <tr style=\"text-align: right;\">\n",
       "      <th></th>\n",
       "      <th>user_settings_crypto_unlocked</th>\n",
       "      <th>num_contacts</th>\n",
       "      <th>age</th>\n",
       "      <th>countries</th>\n",
       "      <th>plans</th>\n",
       "      <th>brands</th>\n",
       "    </tr>\n",
       "  </thead>\n",
       "  <tbody>\n",
       "    <tr>\n",
       "      <th>8082</th>\n",
       "      <td>0</td>\n",
       "      <td>22</td>\n",
       "      <td>41</td>\n",
       "      <td>0</td>\n",
       "      <td>5</td>\n",
       "      <td>0</td>\n",
       "    </tr>\n",
       "    <tr>\n",
       "      <th>16430</th>\n",
       "      <td>0</td>\n",
       "      <td>38</td>\n",
       "      <td>33</td>\n",
       "      <td>0</td>\n",
       "      <td>5</td>\n",
       "      <td>1</td>\n",
       "    </tr>\n",
       "    <tr>\n",
       "      <th>16431</th>\n",
       "      <td>0</td>\n",
       "      <td>7</td>\n",
       "      <td>34</td>\n",
       "      <td>4</td>\n",
       "      <td>5</td>\n",
       "      <td>1</td>\n",
       "    </tr>\n",
       "  </tbody>\n",
       "</table>\n",
       "</div>"
      ],
      "text/plain": [
       "       user_settings_crypto_unlocked  num_contacts  age  countries  plans  \\\n",
       "8082                               0            22   41          0      5   \n",
       "16430                              0            38   33          0      5   \n",
       "16431                              0             7   34          4      5   \n",
       "\n",
       "       brands  \n",
       "8082        0  \n",
       "16430       1  \n",
       "16431       1  "
      ]
     },
     "execution_count": 60,
     "metadata": {},
     "output_type": "execute_result"
    }
   ],
   "source": [
    "# exploring plans \n",
    "df_x_plan = df_x[df_x['plans']==5]\n",
    "df_x_plan.head()\n"
   ]
  },
  {
   "cell_type": "code",
   "execution_count": 61,
   "metadata": {
    "scrolled": true
   },
   "outputs": [
    {
     "data": {
      "text/html": [
       "<div>\n",
       "<style scoped>\n",
       "    .dataframe tbody tr th:only-of-type {\n",
       "        vertical-align: middle;\n",
       "    }\n",
       "\n",
       "    .dataframe tbody tr th {\n",
       "        vertical-align: top;\n",
       "    }\n",
       "\n",
       "    .dataframe thead th {\n",
       "        text-align: right;\n",
       "    }\n",
       "</style>\n",
       "<table border=\"1\" class=\"dataframe\">\n",
       "  <thead>\n",
       "    <tr style=\"text-align: right;\">\n",
       "      <th></th>\n",
       "      <th>user_settings_crypto_unlocked</th>\n",
       "      <th>num_contacts</th>\n",
       "      <th>age</th>\n",
       "      <th>countries</th>\n",
       "      <th>plans</th>\n",
       "      <th>brands</th>\n",
       "    </tr>\n",
       "  </thead>\n",
       "  <tbody>\n",
       "    <tr>\n",
       "      <th>0</th>\n",
       "      <td>1</td>\n",
       "      <td>3</td>\n",
       "      <td>30</td>\n",
       "      <td>0</td>\n",
       "      <td>0</td>\n",
       "      <td>0</td>\n",
       "    </tr>\n",
       "    <tr>\n",
       "      <th>1</th>\n",
       "      <td>0</td>\n",
       "      <td>0</td>\n",
       "      <td>31</td>\n",
       "      <td>0</td>\n",
       "      <td>0</td>\n",
       "      <td>0</td>\n",
       "    </tr>\n",
       "    <tr>\n",
       "      <th>2</th>\n",
       "      <td>1</td>\n",
       "      <td>7</td>\n",
       "      <td>27</td>\n",
       "      <td>0</td>\n",
       "      <td>0</td>\n",
       "      <td>0</td>\n",
       "    </tr>\n",
       "    <tr>\n",
       "      <th>3</th>\n",
       "      <td>0</td>\n",
       "      <td>0</td>\n",
       "      <td>48</td>\n",
       "      <td>0</td>\n",
       "      <td>0</td>\n",
       "      <td>0</td>\n",
       "    </tr>\n",
       "    <tr>\n",
       "      <th>4</th>\n",
       "      <td>0</td>\n",
       "      <td>0</td>\n",
       "      <td>24</td>\n",
       "      <td>0</td>\n",
       "      <td>0</td>\n",
       "      <td>0</td>\n",
       "    </tr>\n",
       "  </tbody>\n",
       "</table>\n",
       "</div>"
      ],
      "text/plain": [
       "   user_settings_crypto_unlocked  num_contacts  age  countries  plans  brands\n",
       "0                              1             3   30          0      0       0\n",
       "1                              0             0   31          0      0       0\n",
       "2                              1             7   27          0      0       0\n",
       "3                              0             0   48          0      0       0\n",
       "4                              0             0   24          0      0       0"
      ]
     },
     "execution_count": 61,
     "metadata": {},
     "output_type": "execute_result"
    }
   ],
   "source": [
    "# exploring devices brand \n",
    "df_x_device = df_x[df_x['brands']==0]\n",
    "df_x_device.head()\n"
   ]
  },
  {
   "cell_type": "code",
   "execution_count": 62,
   "metadata": {},
   "outputs": [
    {
     "data": {
      "text/plain": [
       "3.664785"
      ]
     },
     "execution_count": 62,
     "metadata": {},
     "output_type": "execute_result"
    }
   ],
   "source": [
    "# playing with predictions from different data\n",
    "predictions = gbm.predict(df_x_device)\n",
    "np.mean(predictions)\n"
   ]
  },
  {
   "cell_type": "code",
   "execution_count": 63,
   "metadata": {},
   "outputs": [
    {
     "name": "stdout",
     "output_type": "stream",
     "text": [
      "Mean:  3.574824323302589 \n",
      "Median:  2.360590952145065\n"
     ]
    },
    {
     "data": {
      "image/png": "[encoded data removed]",
      "text/plain": [
       "<Figure size 720x360 with 1 Axes>"
      ]
     },
     "metadata": {
      "needs_background": "light"
     },
     "output_type": "display_data"
    }
   ],
   "source": [
    "# engagement score distribution plot\n",
    "engagement_score = df['engagement_score']\n",
    "\n",
    "mean = engagement_score.mean()\n",
    "median = engagement_score.median()\n",
    "\n",
    "print('Mean: ',mean,'\\nMedian: ',median)\n",
    "plt.figure(figsize=(10,5))\n",
    "plt.hist(engagement_score, bins=100, color='grey')\n",
    "plt.axvline(mean, color='red', label='Mean')\n",
    "plt.axvline(median, color='yellow', label='Median')\n",
    "plt.xlabel('Engagement Score')\n",
    "plt.ylabel('Users')\n",
    "plt.legend()\n",
    "plt.show()\n"
   ]
  },
  {
   "cell_type": "code",
   "execution_count": 64,
   "metadata": {},
   "outputs": [
    {
     "data": {
      "image/png": "[encoded data removed]",
      "text/plain": [
       "<Figure size 432x288 with 1 Axes>"
      ]
     },
     "metadata": {
      "needs_background": "light"
     },
     "output_type": "display_data"
    }
   ],
   "source": [
    "# engagement score boxplot\n",
    "plt.boxplot(df['engagement_score'])\n",
    "plt.show()\n"
   ]
  },
  {
   "cell_type": "markdown",
   "metadata": {},
   "source": [
    "## Measuring effectiveness of churn rate reducement"
   ]
  },
  {
   "cell_type": "code",
   "execution_count": 65,
   "metadata": {},
   "outputs": [],
   "source": [
    "# churn rate can be interpreted in many ways, such as: \n",
    "# (ues beginning of period - ues end of period) / ues beginning of period\n",
    "# where ues = users engagement score\n",
    "# let's say business strategies to reduce churn rate are implemented starting month y which follows month x\n",
    "# one method would be to take average ues for month x and compare to y, and see how it changes\n"
   ]
  },
  {
   "cell_type": "code",
   "execution_count": 66,
   "metadata": {},
   "outputs": [],
   "source": [
    "# implementantion\n",
    "# filterting dates\n",
    "transactions_1 = transactions[(transactions['created_date'] > '2019-01-01') & \n",
    "                              (transactions['created_date'] <= '2019-01-31')]\n",
    "transactions_2 = transactions[(transactions['created_date'] > '2019-02-01') & \n",
    "                              (transactions['created_date'] <= '2019-02-28')]\n",
    "\n"
   ]
  },
  {
   "cell_type": "code",
   "execution_count": 67,
   "metadata": {},
   "outputs": [
    {
     "data": {
      "text/plain": [
       "2740075"
      ]
     },
     "execution_count": 67,
     "metadata": {},
     "output_type": "execute_result"
    }
   ],
   "source": [
    "len(transactions)"
   ]
  },
  {
   "cell_type": "code",
   "execution_count": 68,
   "metadata": {},
   "outputs": [
    {
     "data": {
      "text/plain": [
       "263655"
      ]
     },
     "execution_count": 68,
     "metadata": {},
     "output_type": "execute_result"
    }
   ],
   "source": [
    "len(transactions_1)"
   ]
  },
  {
   "cell_type": "code",
   "execution_count": 69,
   "metadata": {},
   "outputs": [
    {
     "data": {
      "text/plain": [
       "278902"
      ]
     },
     "execution_count": 69,
     "metadata": {},
     "output_type": "execute_result"
    }
   ],
   "source": [
    "len(transactions_2)"
   ]
  },
  {
   "cell_type": "code",
   "execution_count": 70,
   "metadata": {},
   "outputs": [],
   "source": [
    "# month 1 data\n",
    "# grouping transactions per user from first to last transaction of the month\n",
    "month_1_count = transactions_1[['transaction_id', 'user_id']].groupby('user_id').count().reset_index()\n",
    "month_1_max = transactions_1[['created_date', 'user_id']].groupby('user_id').max().reset_index()\n",
    "month_1_min = transactions_1[['created_date', 'user_id']].groupby('user_id').min().reset_index()\n"
   ]
  },
  {
   "cell_type": "code",
   "execution_count": 71,
   "metadata": {},
   "outputs": [],
   "source": [
    "# month 2 data\n",
    "# grouping transactions per user from first to last transaction of the month\n",
    "month_2_count = transactions_2[['transaction_id', 'user_id']].groupby('user_id').count().reset_index()\n",
    "month_2_max = transactions_2[['created_date', 'user_id']].groupby('user_id').max().reset_index()\n",
    "month_2_min = transactions_2[['created_date', 'user_id']].groupby('user_id').min().reset_index()\n"
   ]
  },
  {
   "cell_type": "code",
   "execution_count": 72,
   "metadata": {},
   "outputs": [],
   "source": [
    "# labeling columns\n",
    "month_1_count.columns = ['user_id', 'transactions']\n",
    "month_1_min.columns = ['user_id', 'min_date']\n",
    "month_1_max.columns = ['user_id', 'max_date']\n",
    "month_2_count.columns = ['user_id', 'transactions']\n",
    "month_2_min.columns = ['user_id', 'min_date']\n",
    "month_2_max.columns = ['user_id', 'max_date']\n"
   ]
  },
  {
   "cell_type": "code",
   "execution_count": 73,
   "metadata": {},
   "outputs": [
    {
     "data": {
      "text/html": [
       "<div>\n",
       "<style scoped>\n",
       "    .dataframe tbody tr th:only-of-type {\n",
       "        vertical-align: middle;\n",
       "    }\n",
       "\n",
       "    .dataframe tbody tr th {\n",
       "        vertical-align: top;\n",
       "    }\n",
       "\n",
       "    .dataframe thead th {\n",
       "        text-align: right;\n",
       "    }\n",
       "</style>\n",
       "<table border=\"1\" class=\"dataframe\">\n",
       "  <thead>\n",
       "    <tr style=\"text-align: right;\">\n",
       "      <th></th>\n",
       "      <th>user_id</th>\n",
       "      <th>min_date</th>\n",
       "      <th>max_date</th>\n",
       "      <th>transactions</th>\n",
       "      <th>weeks_active</th>\n",
       "      <th>engagement_score</th>\n",
       "    </tr>\n",
       "  </thead>\n",
       "  <tbody>\n",
       "    <tr>\n",
       "      <th>0</th>\n",
       "      <td>user_0</td>\n",
       "      <td>2019-01-20 22:41:40.009466</td>\n",
       "      <td>2019-01-29 01:48:18.524466</td>\n",
       "      <td>7</td>\n",
       "      <td>1.161373</td>\n",
       "      <td>6.027348</td>\n",
       "    </tr>\n",
       "    <tr>\n",
       "      <th>1</th>\n",
       "      <td>user_1</td>\n",
       "      <td>2019-01-11 02:47:39.583876</td>\n",
       "      <td>2019-01-23 00:01:36.165876</td>\n",
       "      <td>4</td>\n",
       "      <td>1.697812</td>\n",
       "      <td>2.355974</td>\n",
       "    </tr>\n",
       "    <tr>\n",
       "      <th>2</th>\n",
       "      <td>user_10</td>\n",
       "      <td>2019-01-01 18:56:31.991282</td>\n",
       "      <td>2019-01-28 13:23:20.954282</td>\n",
       "      <td>99</td>\n",
       "      <td>3.824089</td>\n",
       "      <td>25.888520</td>\n",
       "    </tr>\n",
       "    <tr>\n",
       "      <th>3</th>\n",
       "      <td>user_100</td>\n",
       "      <td>2019-01-18 21:31:41.272386</td>\n",
       "      <td>2019-01-30 17:34:29.375386</td>\n",
       "      <td>7</td>\n",
       "      <td>1.690754</td>\n",
       "      <td>4.140164</td>\n",
       "    </tr>\n",
       "    <tr>\n",
       "      <th>4</th>\n",
       "      <td>user_10000</td>\n",
       "      <td>2019-01-06 22:24:17.148653</td>\n",
       "      <td>2019-01-21 18:37:24.243653</td>\n",
       "      <td>10</td>\n",
       "      <td>2.120349</td>\n",
       "      <td>4.716205</td>\n",
       "    </tr>\n",
       "  </tbody>\n",
       "</table>\n",
       "</div>"
      ],
      "text/plain": [
       "      user_id                   min_date                   max_date  \\\n",
       "0      user_0 2019-01-20 22:41:40.009466 2019-01-29 01:48:18.524466   \n",
       "1      user_1 2019-01-11 02:47:39.583876 2019-01-23 00:01:36.165876   \n",
       "2     user_10 2019-01-01 18:56:31.991282 2019-01-28 13:23:20.954282   \n",
       "3    user_100 2019-01-18 21:31:41.272386 2019-01-30 17:34:29.375386   \n",
       "4  user_10000 2019-01-06 22:24:17.148653 2019-01-21 18:37:24.243653   \n",
       "\n",
       "   transactions  weeks_active  engagement_score  \n",
       "0             7      1.161373          6.027348  \n",
       "1             4      1.697812          2.355974  \n",
       "2            99      3.824089         25.888520  \n",
       "3             7      1.690754          4.140164  \n",
       "4            10      2.120349          4.716205  "
      ]
     },
     "execution_count": 73,
     "metadata": {},
     "output_type": "execute_result"
    }
   ],
   "source": [
    "# merging all together month 1\n",
    "merged_date_1 = (month_1_min.merge(month_1_max, how='inner', on='user_id')).merge(month_1_count, \n",
    "                                                                                  how='inner', \n",
    "                                                                                  on='user_id')\n",
    "delta_date_1 = merged_date_1['max_date'] - merged_date_1['min_date']\n",
    "merged_date_1['weeks_active'] = delta_date_1 / np.timedelta64(7, 'D')\n",
    "merged_date_1['engagement_score'] = merged_date_1['transactions'] / merged_date_1['weeks_active']\n",
    "merged_date_1.head()\n"
   ]
  },
  {
   "cell_type": "code",
   "execution_count": 74,
   "metadata": {},
   "outputs": [
    {
     "data": {
      "text/html": [
       "<div>\n",
       "<style scoped>\n",
       "    .dataframe tbody tr th:only-of-type {\n",
       "        vertical-align: middle;\n",
       "    }\n",
       "\n",
       "    .dataframe tbody tr th {\n",
       "        vertical-align: top;\n",
       "    }\n",
       "\n",
       "    .dataframe thead th {\n",
       "        text-align: right;\n",
       "    }\n",
       "</style>\n",
       "<table border=\"1\" class=\"dataframe\">\n",
       "  <thead>\n",
       "    <tr style=\"text-align: right;\">\n",
       "      <th></th>\n",
       "      <th>user_id</th>\n",
       "      <th>min_date</th>\n",
       "      <th>max_date</th>\n",
       "      <th>transactions</th>\n",
       "      <th>weeks_active</th>\n",
       "      <th>engagement_score</th>\n",
       "    </tr>\n",
       "  </thead>\n",
       "  <tbody>\n",
       "    <tr>\n",
       "      <th>0</th>\n",
       "      <td>user_0</td>\n",
       "      <td>2019-02-02 22:42:56.546466</td>\n",
       "      <td>2019-02-27 01:40:25.668466</td>\n",
       "      <td>21</td>\n",
       "      <td>3.446179</td>\n",
       "      <td>6.093705</td>\n",
       "    </tr>\n",
       "    <tr>\n",
       "      <th>1</th>\n",
       "      <td>user_1</td>\n",
       "      <td>2019-02-11 10:25:44.910876</td>\n",
       "      <td>2019-02-26 22:05:28.902876</td>\n",
       "      <td>12</td>\n",
       "      <td>2.212275</td>\n",
       "      <td>5.424280</td>\n",
       "    </tr>\n",
       "    <tr>\n",
       "      <th>2</th>\n",
       "      <td>user_10</td>\n",
       "      <td>2019-02-01 08:41:26.537282</td>\n",
       "      <td>2019-02-27 01:52:46.808282</td>\n",
       "      <td>49</td>\n",
       "      <td>3.673744</td>\n",
       "      <td>13.337892</td>\n",
       "    </tr>\n",
       "    <tr>\n",
       "      <th>3</th>\n",
       "      <td>user_100</td>\n",
       "      <td>2019-02-01 15:00:58.468386</td>\n",
       "      <td>2019-02-27 08:42:08.729386</td>\n",
       "      <td>28</td>\n",
       "      <td>3.676703</td>\n",
       "      <td>7.615518</td>\n",
       "    </tr>\n",
       "    <tr>\n",
       "      <th>4</th>\n",
       "      <td>user_10000</td>\n",
       "      <td>2019-02-06 22:58:36.989653</td>\n",
       "      <td>2019-02-27 18:28:05.466653</td>\n",
       "      <td>38</td>\n",
       "      <td>2.973162</td>\n",
       "      <td>12.781005</td>\n",
       "    </tr>\n",
       "  </tbody>\n",
       "</table>\n",
       "</div>"
      ],
      "text/plain": [
       "      user_id                   min_date                   max_date  \\\n",
       "0      user_0 2019-02-02 22:42:56.546466 2019-02-27 01:40:25.668466   \n",
       "1      user_1 2019-02-11 10:25:44.910876 2019-02-26 22:05:28.902876   \n",
       "2     user_10 2019-02-01 08:41:26.537282 2019-02-27 01:52:46.808282   \n",
       "3    user_100 2019-02-01 15:00:58.468386 2019-02-27 08:42:08.729386   \n",
       "4  user_10000 2019-02-06 22:58:36.989653 2019-02-27 18:28:05.466653   \n",
       "\n",
       "   transactions  weeks_active  engagement_score  \n",
       "0            21      3.446179          6.093705  \n",
       "1            12      2.212275          5.424280  \n",
       "2            49      3.673744         13.337892  \n",
       "3            28      3.676703          7.615518  \n",
       "4            38      2.973162         12.781005  "
      ]
     },
     "execution_count": 74,
     "metadata": {},
     "output_type": "execute_result"
    }
   ],
   "source": [
    "# merging all together month 2\n",
    "merged_date_2 = (month_2_min.merge(month_2_max, how='inner', on='user_id')).merge(month_2_count, \n",
    "                                                                                  how='inner', \n",
    "                                                                                  on='user_id')\n",
    "delta_date_2 = merged_date_2['max_date'] - merged_date_2['min_date']\n",
    "merged_date_2['weeks_active'] = delta_date_2 / np.timedelta64(7, 'D')\n",
    "merged_date_2['engagement_score'] = merged_date_2['transactions'] / merged_date_2['weeks_active']\n",
    "merged_date_2.head()\n"
   ]
  },
  {
   "cell_type": "code",
   "execution_count": 75,
   "metadata": {},
   "outputs": [],
   "source": [
    "# removing outliers\n",
    "merged_date_1 = remove_outlier(merged_date_1, 'engagement_score')\n",
    "merged_date_2 = remove_outlier(merged_date_2, 'engagement_score')\n"
   ]
  },
  {
   "cell_type": "code",
   "execution_count": 76,
   "metadata": {},
   "outputs": [
    {
     "data": {
      "text/plain": [
       "10.30958736161785"
      ]
     },
     "execution_count": 76,
     "metadata": {},
     "output_type": "execute_result"
    }
   ],
   "source": [
    "# month 1 average engagement score\n",
    "np.mean(merged_date_1['engagement_score'])\n"
   ]
  },
  {
   "cell_type": "code",
   "execution_count": 77,
   "metadata": {},
   "outputs": [
    {
     "data": {
      "text/plain": [
       "11.354007826292705"
      ]
     },
     "execution_count": 77,
     "metadata": {},
     "output_type": "execute_result"
    }
   ],
   "source": [
    "# month 2 average engagement score\n",
    "np.mean(merged_date_2['engagement_score'])\n"
   ]
  },
  {
   "cell_type": "markdown",
   "metadata": {},
   "source": [
    "# Extras"
   ]
  },
  {
   "cell_type": "markdown",
   "metadata": {},
   "source": [
    "## Bootstrap hypothesis testing using XGBoost for UES between apple & android users"
   ]
  },
  {
   "cell_type": "code",
   "execution_count": 78,
   "metadata": {},
   "outputs": [
    {
     "data": {
      "text/html": [
       "<div>\n",
       "<style scoped>\n",
       "    .dataframe tbody tr th:only-of-type {\n",
       "        vertical-align: middle;\n",
       "    }\n",
       "\n",
       "    .dataframe tbody tr th {\n",
       "        vertical-align: top;\n",
       "    }\n",
       "\n",
       "    .dataframe thead th {\n",
       "        text-align: right;\n",
       "    }\n",
       "</style>\n",
       "<table border=\"1\" class=\"dataframe\">\n",
       "  <thead>\n",
       "    <tr style=\"text-align: right;\">\n",
       "      <th></th>\n",
       "      <th>engagement_score</th>\n",
       "      <th>user_settings_crypto_unlocked</th>\n",
       "      <th>num_contacts</th>\n",
       "      <th>age</th>\n",
       "      <th>countries</th>\n",
       "      <th>plans</th>\n",
       "      <th>brands</th>\n",
       "    </tr>\n",
       "  </thead>\n",
       "  <tbody>\n",
       "    <tr>\n",
       "      <th>0</th>\n",
       "      <td>5.791435</td>\n",
       "      <td>1</td>\n",
       "      <td>3</td>\n",
       "      <td>30</td>\n",
       "      <td>0</td>\n",
       "      <td>0</td>\n",
       "      <td>0</td>\n",
       "    </tr>\n",
       "    <tr>\n",
       "      <th>1</th>\n",
       "      <td>0.739598</td>\n",
       "      <td>0</td>\n",
       "      <td>0</td>\n",
       "      <td>31</td>\n",
       "      <td>0</td>\n",
       "      <td>0</td>\n",
       "      <td>0</td>\n",
       "    </tr>\n",
       "    <tr>\n",
       "      <th>2</th>\n",
       "      <td>2.022998</td>\n",
       "      <td>1</td>\n",
       "      <td>7</td>\n",
       "      <td>27</td>\n",
       "      <td>0</td>\n",
       "      <td>0</td>\n",
       "      <td>0</td>\n",
       "    </tr>\n",
       "    <tr>\n",
       "      <th>3</th>\n",
       "      <td>0.053889</td>\n",
       "      <td>0</td>\n",
       "      <td>0</td>\n",
       "      <td>48</td>\n",
       "      <td>0</td>\n",
       "      <td>0</td>\n",
       "      <td>0</td>\n",
       "    </tr>\n",
       "    <tr>\n",
       "      <th>4</th>\n",
       "      <td>0.481496</td>\n",
       "      <td>0</td>\n",
       "      <td>0</td>\n",
       "      <td>24</td>\n",
       "      <td>0</td>\n",
       "      <td>0</td>\n",
       "      <td>0</td>\n",
       "    </tr>\n",
       "  </tbody>\n",
       "</table>\n",
       "</div>"
      ],
      "text/plain": [
       "   engagement_score  user_settings_crypto_unlocked  num_contacts  age  \\\n",
       "0          5.791435                              1             3   30   \n",
       "1          0.739598                              0             0   31   \n",
       "2          2.022998                              1             7   27   \n",
       "3          0.053889                              0             0   48   \n",
       "4          0.481496                              0             0   24   \n",
       "\n",
       "   countries  plans  brands  \n",
       "0          0      0       0  \n",
       "1          0      0       0  \n",
       "2          0      0       0  \n",
       "3          0      0       0  \n",
       "4          0      0       0  "
      ]
     },
     "execution_count": 78,
     "metadata": {},
     "output_type": "execute_result"
    }
   ],
   "source": [
    "df.head()\n"
   ]
  },
  {
   "cell_type": "code",
   "execution_count": 79,
   "metadata": {},
   "outputs": [
    {
     "data": {
      "text/plain": [
       "16487"
      ]
     },
     "execution_count": 79,
     "metadata": {},
     "output_type": "execute_result"
    }
   ],
   "source": [
    "len(df)\n"
   ]
  },
  {
   "cell_type": "code",
   "execution_count": 80,
   "metadata": {},
   "outputs": [
    {
     "data": {
      "text/plain": [
       "16452"
      ]
     },
     "execution_count": 80,
     "metadata": {},
     "output_type": "execute_result"
    }
   ],
   "source": [
    "# delete rows that brands are not apple or android\n",
    "df_h = df[df.brands!=2]\n",
    "len(df_h)\n"
   ]
  },
  {
   "cell_type": "code",
   "execution_count": 81,
   "metadata": {},
   "outputs": [],
   "source": [
    "# selecting a sample from population\n",
    "index = np.random.random_sample(len(df_h)) < 0.7\n"
   ]
  },
  {
   "cell_type": "code",
   "execution_count": 82,
   "metadata": {},
   "outputs": [
    {
     "data": {
      "text/plain": [
       "11535"
      ]
     },
     "execution_count": 82,
     "metadata": {},
     "output_type": "execute_result"
    }
   ],
   "source": [
    "subset = df_h[index]\n",
    "len(subset)\n"
   ]
  },
  {
   "cell_type": "code",
   "execution_count": 83,
   "metadata": {},
   "outputs": [
    {
     "data": {
      "text/html": [
       "<div>\n",
       "<style scoped>\n",
       "    .dataframe tbody tr th:only-of-type {\n",
       "        vertical-align: middle;\n",
       "    }\n",
       "\n",
       "    .dataframe tbody tr th {\n",
       "        vertical-align: top;\n",
       "    }\n",
       "\n",
       "    .dataframe thead th {\n",
       "        text-align: right;\n",
       "    }\n",
       "</style>\n",
       "<table border=\"1\" class=\"dataframe\">\n",
       "  <thead>\n",
       "    <tr style=\"text-align: right;\">\n",
       "      <th></th>\n",
       "      <th>engagement_score</th>\n",
       "      <th>user_settings_crypto_unlocked</th>\n",
       "      <th>num_contacts</th>\n",
       "      <th>age</th>\n",
       "      <th>countries</th>\n",
       "      <th>plans</th>\n",
       "      <th>brands</th>\n",
       "    </tr>\n",
       "  </thead>\n",
       "  <tbody>\n",
       "    <tr>\n",
       "      <th>0</th>\n",
       "      <td>5.791435</td>\n",
       "      <td>1</td>\n",
       "      <td>3</td>\n",
       "      <td>30</td>\n",
       "      <td>0</td>\n",
       "      <td>0</td>\n",
       "      <td>0</td>\n",
       "    </tr>\n",
       "    <tr>\n",
       "      <th>1</th>\n",
       "      <td>0.739598</td>\n",
       "      <td>0</td>\n",
       "      <td>0</td>\n",
       "      <td>31</td>\n",
       "      <td>0</td>\n",
       "      <td>0</td>\n",
       "      <td>0</td>\n",
       "    </tr>\n",
       "    <tr>\n",
       "      <th>4</th>\n",
       "      <td>0.481496</td>\n",
       "      <td>0</td>\n",
       "      <td>0</td>\n",
       "      <td>24</td>\n",
       "      <td>0</td>\n",
       "      <td>0</td>\n",
       "      <td>0</td>\n",
       "    </tr>\n",
       "    <tr>\n",
       "      <th>5</th>\n",
       "      <td>0.723367</td>\n",
       "      <td>0</td>\n",
       "      <td>81</td>\n",
       "      <td>43</td>\n",
       "      <td>0</td>\n",
       "      <td>0</td>\n",
       "      <td>0</td>\n",
       "    </tr>\n",
       "    <tr>\n",
       "      <th>6</th>\n",
       "      <td>1.852184</td>\n",
       "      <td>0</td>\n",
       "      <td>7</td>\n",
       "      <td>28</td>\n",
       "      <td>0</td>\n",
       "      <td>0</td>\n",
       "      <td>0</td>\n",
       "    </tr>\n",
       "  </tbody>\n",
       "</table>\n",
       "</div>"
      ],
      "text/plain": [
       "   engagement_score  user_settings_crypto_unlocked  num_contacts  age  \\\n",
       "0          5.791435                              1             3   30   \n",
       "1          0.739598                              0             0   31   \n",
       "4          0.481496                              0             0   24   \n",
       "5          0.723367                              0            81   43   \n",
       "6          1.852184                              0             7   28   \n",
       "\n",
       "   countries  plans  brands  \n",
       "0          0      0       0  \n",
       "1          0      0       0  \n",
       "4          0      0       0  \n",
       "5          0      0       0  \n",
       "6          0      0       0  "
      ]
     },
     "execution_count": 83,
     "metadata": {},
     "output_type": "execute_result"
    }
   ],
   "source": [
    "# dataframe from sample\n",
    "subset.head()\n"
   ]
  },
  {
   "cell_type": "code",
   "execution_count": 84,
   "metadata": {},
   "outputs": [
    {
     "data": {
      "text/plain": [
       "11535"
      ]
     },
     "execution_count": 84,
     "metadata": {},
     "output_type": "execute_result"
    }
   ],
   "source": [
    "# dependent variable\n",
    "df_yh = subset['engagement_score']\n",
    "len(df_yh)\n"
   ]
  },
  {
   "cell_type": "code",
   "execution_count": 85,
   "metadata": {},
   "outputs": [
    {
     "data": {
      "text/plain": [
       "0    5.791435\n",
       "1    0.739598\n",
       "4    0.481496\n",
       "5    0.723367\n",
       "6    1.852184\n",
       "Name: engagement_score, dtype: float64"
      ]
     },
     "execution_count": 85,
     "metadata": {},
     "output_type": "execute_result"
    }
   ],
   "source": [
    "df_yh.head()\n"
   ]
  },
  {
   "cell_type": "code",
   "execution_count": 86,
   "metadata": {},
   "outputs": [
    {
     "data": {
      "text/plain": [
       "11535"
      ]
     },
     "execution_count": 86,
     "metadata": {},
     "output_type": "execute_result"
    }
   ],
   "source": [
    "# independent variables\n",
    "df_xh = subset.drop(['engagement_score'], axis=1)\n",
    "len(df_xh)\n"
   ]
  },
  {
   "cell_type": "code",
   "execution_count": 87,
   "metadata": {
    "scrolled": true
   },
   "outputs": [
    {
     "data": {
      "text/html": [
       "<div>\n",
       "<style scoped>\n",
       "    .dataframe tbody tr th:only-of-type {\n",
       "        vertical-align: middle;\n",
       "    }\n",
       "\n",
       "    .dataframe tbody tr th {\n",
       "        vertical-align: top;\n",
       "    }\n",
       "\n",
       "    .dataframe thead th {\n",
       "        text-align: right;\n",
       "    }\n",
       "</style>\n",
       "<table border=\"1\" class=\"dataframe\">\n",
       "  <thead>\n",
       "    <tr style=\"text-align: right;\">\n",
       "      <th></th>\n",
       "      <th>user_settings_crypto_unlocked</th>\n",
       "      <th>num_contacts</th>\n",
       "      <th>age</th>\n",
       "      <th>countries</th>\n",
       "      <th>plans</th>\n",
       "      <th>brands</th>\n",
       "    </tr>\n",
       "  </thead>\n",
       "  <tbody>\n",
       "    <tr>\n",
       "      <th>0</th>\n",
       "      <td>1</td>\n",
       "      <td>3</td>\n",
       "      <td>30</td>\n",
       "      <td>0</td>\n",
       "      <td>0</td>\n",
       "      <td>0</td>\n",
       "    </tr>\n",
       "    <tr>\n",
       "      <th>1</th>\n",
       "      <td>0</td>\n",
       "      <td>0</td>\n",
       "      <td>31</td>\n",
       "      <td>0</td>\n",
       "      <td>0</td>\n",
       "      <td>0</td>\n",
       "    </tr>\n",
       "    <tr>\n",
       "      <th>4</th>\n",
       "      <td>0</td>\n",
       "      <td>0</td>\n",
       "      <td>24</td>\n",
       "      <td>0</td>\n",
       "      <td>0</td>\n",
       "      <td>0</td>\n",
       "    </tr>\n",
       "    <tr>\n",
       "      <th>5</th>\n",
       "      <td>0</td>\n",
       "      <td>81</td>\n",
       "      <td>43</td>\n",
       "      <td>0</td>\n",
       "      <td>0</td>\n",
       "      <td>0</td>\n",
       "    </tr>\n",
       "    <tr>\n",
       "      <th>6</th>\n",
       "      <td>0</td>\n",
       "      <td>7</td>\n",
       "      <td>28</td>\n",
       "      <td>0</td>\n",
       "      <td>0</td>\n",
       "      <td>0</td>\n",
       "    </tr>\n",
       "  </tbody>\n",
       "</table>\n",
       "</div>"
      ],
      "text/plain": [
       "   user_settings_crypto_unlocked  num_contacts  age  countries  plans  brands\n",
       "0                              1             3   30          0      0       0\n",
       "1                              0             0   31          0      0       0\n",
       "4                              0             0   24          0      0       0\n",
       "5                              0            81   43          0      0       0\n",
       "6                              0             7   28          0      0       0"
      ]
     },
     "execution_count": 87,
     "metadata": {},
     "output_type": "execute_result"
    }
   ],
   "source": [
    "df_xh.head()\n"
   ]
  },
  {
   "cell_type": "code",
   "execution_count": 88,
   "metadata": {},
   "outputs": [
    {
     "name": "stderr",
     "output_type": "stream",
     "text": [
      "/Users/acallil/anaconda3/lib/python3.7/site-packages/ipykernel_launcher.py:13: SettingWithCopyWarning: \n",
      "A value is trying to be set on a copy of a slice from a DataFrame.\n",
      "Try using .loc[row_indexer,col_indexer] = value instead\n",
      "\n",
      "See the caveats in the documentation: http://pandas.pydata.org/pandas-docs/stable/indexing.html#indexing-view-versus-copy\n",
      "  del sys.path[0]\n",
      "/Users/acallil/anaconda3/lib/python3.7/site-packages/ipykernel_launcher.py:17: SettingWithCopyWarning: \n",
      "A value is trying to be set on a copy of a slice from a DataFrame.\n",
      "Try using .loc[row_indexer,col_indexer] = value instead\n",
      "\n",
      "See the caveats in the documentation: http://pandas.pydata.org/pandas-docs/stable/indexing.html#indexing-view-versus-copy\n"
     ]
    }
   ],
   "source": [
    "# bootstrap hypothesis testing with XGBoost\n",
    "android = []\n",
    "apple = []\n",
    "\n",
    "for i in range(100):\n",
    "    index = np.random.random_sample(len(df)) < 0.7\n",
    "    subset_x = df_x[index]\n",
    "    subset_y = df_y[index]\n",
    "    \n",
    "    gbm2 = xgb.XGBRegressor(**reg_cv.best_params_)\n",
    "    gbm2.fit(subset_x, subset_y)\n",
    "\n",
    "    subset_x['brands']=1\n",
    "    pred_gbm2 = gbm2.predict(subset_x)\n",
    "    android.append(np.mean(pred_gbm2))\n",
    "\n",
    "    subset_x['brands']=0\n",
    "    pred_gbm2 = gbm2.predict(subset_x)\n",
    "    apple.append(np.mean(pred_gbm2))\n",
    "    "
   ]
  },
  {
   "cell_type": "code",
   "execution_count": 89,
   "metadata": {},
   "outputs": [],
   "source": [
    "# difference between user engagement score\n",
    "diff = np.array(android) - np.array(apple)\n"
   ]
  },
  {
   "cell_type": "code",
   "execution_count": 90,
   "metadata": {},
   "outputs": [
    {
     "data": {
      "text/plain": [
       "3.6055264"
      ]
     },
     "execution_count": 90,
     "metadata": {},
     "output_type": "execute_result"
    }
   ],
   "source": [
    "# mean engagement score of all android users\n",
    "np.mean(android)\n"
   ]
  },
  {
   "cell_type": "code",
   "execution_count": 91,
   "metadata": {},
   "outputs": [
    {
     "data": {
      "text/plain": [
       "3.5566"
      ]
     },
     "execution_count": 91,
     "metadata": {},
     "output_type": "execute_result"
    }
   ],
   "source": [
    "# mean engagement score of all apple users\n",
    "np.mean(apple)\n"
   ]
  },
  {
   "cell_type": "code",
   "execution_count": 92,
   "metadata": {},
   "outputs": [
    {
     "data": {
      "image/png": "[encoded data removed]",
      "text/plain": [
       "<Figure size 432x288 with 1 Axes>"
      ]
     },
     "metadata": {
      "needs_background": "light"
     },
     "output_type": "display_data"
    }
   ],
   "source": [
    "# normal distribution plot\n",
    "plt.hist(diff, bins=11, color='grey')\n",
    "plt.show()\n"
   ]
  },
  {
   "cell_type": "code",
   "execution_count": 93,
   "metadata": {},
   "outputs": [
    {
     "data": {
      "text/plain": [
       "array([False, False, False, False,  True, False, False, False, False,\n",
       "       False, False, False,  True, False, False, False, False, False,\n",
       "        True, False, False, False,  True, False, False, False, False,\n",
       "       False, False, False, False, False,  True, False,  True, False,\n",
       "       False, False, False, False,  True, False, False, False,  True,\n",
       "       False, False, False, False, False, False, False, False, False,\n",
       "       False, False, False, False, False, False, False, False, False,\n",
       "       False, False, False, False, False, False, False, False, False,\n",
       "        True, False, False, False, False, False, False, False, False,\n",
       "       False, False, False, False, False,  True, False, False, False,\n",
       "       False, False, False, False, False, False, False, False, False,\n",
       "       False])"
      ]
     },
     "execution_count": 93,
     "metadata": {},
     "output_type": "execute_result"
    }
   ],
   "source": [
    "# selecting times then difference between android and apple user engagement is less than 0\n",
    "diff < 0\n",
    "\n",
    "# the difference is less than 0 only 9 times out of 100\n",
    "# meaning for 91 times android user's engagement is higher than apple ones\n"
   ]
  },
  {
   "cell_type": "markdown",
   "metadata": {},
   "source": [
    "### Devices"
   ]
  },
  {
   "cell_type": "code",
   "execution_count": 94,
   "metadata": {},
   "outputs": [
    {
     "data": {
      "text/plain": [
       "35.402417962003454"
      ]
     },
     "execution_count": 94,
     "metadata": {},
     "output_type": "execute_result"
    }
   ],
   "source": [
    "# apple users average age\n",
    "df_x_apple = df_x[df_x['brands']==0]\n",
    "np.mean(df_x_apple['age'])\n"
   ]
  },
  {
   "cell_type": "code",
   "execution_count": 95,
   "metadata": {},
   "outputs": [
    {
     "data": {
      "text/plain": [
       "35.44428468727534"
      ]
     },
     "execution_count": 95,
     "metadata": {},
     "output_type": "execute_result"
    }
   ],
   "source": [
    "# android users average age\n",
    "df_x_android = df_x[df_x['brands']==1]\n",
    "np.mean(df_x_android['age'])\n"
   ]
  },
  {
   "cell_type": "code",
   "execution_count": 96,
   "metadata": {},
   "outputs": [
    {
     "name": "stdout",
     "output_type": "stream",
     "text": [
      "Mean:  35.402417962003454 \n",
      "Median:  33.0 \n",
      "Mode:  27\n"
     ]
    },
    {
     "data": {
      "image/png": "[encoded data removed]",
      "text/plain": [
       "<Figure size 720x360 with 1 Axes>"
      ]
     },
     "metadata": {
      "needs_background": "light"
     },
     "output_type": "display_data"
    }
   ],
   "source": [
    "# overall age distribution of apple users\n",
    "age_apple = df_x_apple['age']\n",
    "\n",
    "mean = age_apple.mean()\n",
    "median = age_apple.median()\n",
    "mode = age_apple.mode()\n",
    "\n",
    "print('Mean: ',mean,'\\nMedian: ',median,'\\nMode: ',mode[0])\n",
    "plt.figure(figsize=(10,5))\n",
    "plt.hist(age_apple, bins=30, color='grey')\n",
    "plt.axvline(mean, color='red', label='Mean')\n",
    "plt.axvline(median, color='yellow', label='Median')\n",
    "plt.axvline(mode[0], color='green', label='Mode')\n",
    "plt.xlabel('Age')\n",
    "plt.ylabel('Apple Users')\n",
    "plt.legend()\n",
    "plt.show()\n"
   ]
  },
  {
   "cell_type": "code",
   "execution_count": 97,
   "metadata": {},
   "outputs": [
    {
     "name": "stdout",
     "output_type": "stream",
     "text": [
      "Mean:  35.44428468727534 \n",
      "Median:  33.0 \n",
      "Mode:  27\n"
     ]
    },
    {
     "data": {
      "image/png": "[encoded data removed]",
      "text/plain": [
       "<Figure size 720x360 with 1 Axes>"
      ]
     },
     "metadata": {
      "needs_background": "light"
     },
     "output_type": "display_data"
    }
   ],
   "source": [
    "# overall age distribution of android users\n",
    "age_android = df_x_android['age']\n",
    "\n",
    "mean = age_android.mean()\n",
    "median = age_android.median()\n",
    "mode = age_android.mode()\n",
    "\n",
    "print('Mean: ',mean,'\\nMedian: ',median,'\\nMode: ',mode[0])\n",
    "plt.figure(figsize=(10,5))\n",
    "plt.hist(age_android, bins=30, color='grey')\n",
    "plt.axvline(mean, color='red', label='Mean')\n",
    "plt.axvline(median, color='yellow', label='Median')\n",
    "plt.axvline(mode[0], color='green', label='Mode')\n",
    "plt.xlabel('Age')\n",
    "plt.ylabel('Android Users')\n",
    "plt.legend()\n",
    "plt.show()\n"
   ]
  },
  {
   "cell_type": "markdown",
   "metadata": {},
   "source": [
    "### Crypto"
   ]
  },
  {
   "cell_type": "code",
   "execution_count": 98,
   "metadata": {},
   "outputs": [
    {
     "data": {
      "text/html": [
       "<div>\n",
       "<style scoped>\n",
       "    .dataframe tbody tr th:only-of-type {\n",
       "        vertical-align: middle;\n",
       "    }\n",
       "\n",
       "    .dataframe tbody tr th {\n",
       "        vertical-align: top;\n",
       "    }\n",
       "\n",
       "    .dataframe thead th {\n",
       "        text-align: right;\n",
       "    }\n",
       "</style>\n",
       "<table border=\"1\" class=\"dataframe\">\n",
       "  <thead>\n",
       "    <tr style=\"text-align: right;\">\n",
       "      <th></th>\n",
       "      <th>user_settings_crypto_unlocked</th>\n",
       "      <th>num_contacts</th>\n",
       "      <th>age</th>\n",
       "      <th>countries</th>\n",
       "      <th>plans</th>\n",
       "      <th>brands</th>\n",
       "    </tr>\n",
       "  </thead>\n",
       "  <tbody>\n",
       "    <tr>\n",
       "      <th>0</th>\n",
       "      <td>1</td>\n",
       "      <td>3</td>\n",
       "      <td>30</td>\n",
       "      <td>0</td>\n",
       "      <td>0</td>\n",
       "      <td>0</td>\n",
       "    </tr>\n",
       "    <tr>\n",
       "      <th>2</th>\n",
       "      <td>1</td>\n",
       "      <td>7</td>\n",
       "      <td>27</td>\n",
       "      <td>0</td>\n",
       "      <td>0</td>\n",
       "      <td>0</td>\n",
       "    </tr>\n",
       "    <tr>\n",
       "      <th>12</th>\n",
       "      <td>1</td>\n",
       "      <td>0</td>\n",
       "      <td>26</td>\n",
       "      <td>0</td>\n",
       "      <td>0</td>\n",
       "      <td>0</td>\n",
       "    </tr>\n",
       "    <tr>\n",
       "      <th>15</th>\n",
       "      <td>1</td>\n",
       "      <td>3</td>\n",
       "      <td>26</td>\n",
       "      <td>0</td>\n",
       "      <td>0</td>\n",
       "      <td>0</td>\n",
       "    </tr>\n",
       "    <tr>\n",
       "      <th>39</th>\n",
       "      <td>1</td>\n",
       "      <td>35</td>\n",
       "      <td>27</td>\n",
       "      <td>0</td>\n",
       "      <td>0</td>\n",
       "      <td>0</td>\n",
       "    </tr>\n",
       "  </tbody>\n",
       "</table>\n",
       "</div>"
      ],
      "text/plain": [
       "    user_settings_crypto_unlocked  num_contacts  age  countries  plans  brands\n",
       "0                               1             3   30          0      0       0\n",
       "2                               1             7   27          0      0       0\n",
       "12                              1             0   26          0      0       0\n",
       "15                              1             3   26          0      0       0\n",
       "39                              1            35   27          0      0       0"
      ]
     },
     "execution_count": 98,
     "metadata": {},
     "output_type": "execute_result"
    }
   ],
   "source": [
    "# filtering only crypto users\n",
    "df_x_crypto_unlocked = df_x[df_x['user_settings_crypto_unlocked']==1]\n",
    "df_x_crypto_unlocked.head()\n"
   ]
  },
  {
   "cell_type": "code",
   "execution_count": 99,
   "metadata": {},
   "outputs": [],
   "source": [
    "# separating apple and android users that uses crypto\n",
    "apples = df_x_crypto_unlocked[df_x_crypto_unlocked['brands']==0]\n",
    "androids = df_x_crypto_unlocked[df_x_crypto_unlocked['brands']==1]\n"
   ]
  },
  {
   "cell_type": "code",
   "execution_count": 100,
   "metadata": {},
   "outputs": [
    {
     "data": {
      "text/plain": [
       "34.19245003700962"
      ]
     },
     "execution_count": 100,
     "metadata": {},
     "output_type": "execute_result"
    }
   ],
   "source": [
    "# average age of apple crypto users\n",
    "crypto_apple_avg_age = np.mean(apples['age'])\n",
    "crypto_apple_avg_age\n"
   ]
  },
  {
   "cell_type": "code",
   "execution_count": 101,
   "metadata": {},
   "outputs": [
    {
     "data": {
      "text/plain": [
       "33.7624703087886"
      ]
     },
     "execution_count": 101,
     "metadata": {},
     "output_type": "execute_result"
    }
   ],
   "source": [
    "# average age of android crypto users\n",
    "crypto_android_avg_age = np.mean(androids['age'])\n",
    "crypto_android_avg_age\n"
   ]
  },
  {
   "cell_type": "code",
   "execution_count": 102,
   "metadata": {
    "scrolled": false
   },
   "outputs": [
    {
     "name": "stdout",
     "output_type": "stream",
     "text": [
      "Mean:  33.94382391590013 \n",
      "Median:  32.0 \n",
      "Mode:  30\n"
     ]
    },
    {
     "data": {
      "image/png": "[encoded data removed]",
      "text/plain": [
       "<Figure size 720x360 with 1 Axes>"
      ]
     },
     "metadata": {
      "needs_background": "light"
     },
     "output_type": "display_data"
    }
   ],
   "source": [
    "# crypto users age distribution\n",
    "age = df_x_crypto_unlocked['age']\n",
    "\n",
    "mean = age.mean()\n",
    "median = age.median()\n",
    "mode = age.mode()\n",
    "\n",
    "print('Mean: ',mean,'\\nMedian: ',median,'\\nMode: ',mode[0])\n",
    "plt.figure(figsize=(10,5))\n",
    "plt.hist(age, bins=30, color='grey')\n",
    "plt.axvline(mean, color='red', label='Mean')\n",
    "plt.axvline(median, color='yellow', label='Median')\n",
    "plt.axvline(mode[0], color='green', label='Mode')\n",
    "plt.xlabel('Age')\n",
    "plt.ylabel('Users')\n",
    "plt.legend()\n",
    "plt.show()\n"
   ]
  },
  {
   "cell_type": "code",
   "execution_count": 103,
   "metadata": {},
   "outputs": [
    {
     "data": {
      "text/plain": [
       "35.42560805483108"
      ]
     },
     "execution_count": 103,
     "metadata": {},
     "output_type": "execute_result"
    }
   ],
   "source": [
    "# average age of overall users\n",
    "np.mean(df_x['age'])\n"
   ]
  },
  {
   "cell_type": "code",
   "execution_count": 104,
   "metadata": {},
   "outputs": [
    {
     "data": {
      "text/plain": [
       "33.94382391590013"
      ]
     },
     "execution_count": 104,
     "metadata": {},
     "output_type": "execute_result"
    }
   ],
   "source": [
    "# average age of users that have unlocked crypto\n",
    "np.mean(df_x_crypto_unlocked['age'])\n"
   ]
  },
  {
   "cell_type": "code",
   "execution_count": 105,
   "metadata": {},
   "outputs": [
    {
     "data": {
      "text/html": [
       "<div>\n",
       "<style scoped>\n",
       "    .dataframe tbody tr th:only-of-type {\n",
       "        vertical-align: middle;\n",
       "    }\n",
       "\n",
       "    .dataframe tbody tr th {\n",
       "        vertical-align: top;\n",
       "    }\n",
       "\n",
       "    .dataframe thead th {\n",
       "        text-align: right;\n",
       "    }\n",
       "</style>\n",
       "<table border=\"1\" class=\"dataframe\">\n",
       "  <thead>\n",
       "    <tr style=\"text-align: right;\">\n",
       "      <th></th>\n",
       "      <th>user_settings_crypto_unlocked</th>\n",
       "      <th>num_contacts</th>\n",
       "      <th>age</th>\n",
       "      <th>countries</th>\n",
       "      <th>plans</th>\n",
       "      <th>brands</th>\n",
       "    </tr>\n",
       "  </thead>\n",
       "  <tbody>\n",
       "    <tr>\n",
       "      <th>1</th>\n",
       "      <td>0</td>\n",
       "      <td>0</td>\n",
       "      <td>31</td>\n",
       "      <td>0</td>\n",
       "      <td>0</td>\n",
       "      <td>0</td>\n",
       "    </tr>\n",
       "    <tr>\n",
       "      <th>3</th>\n",
       "      <td>0</td>\n",
       "      <td>0</td>\n",
       "      <td>48</td>\n",
       "      <td>0</td>\n",
       "      <td>0</td>\n",
       "      <td>0</td>\n",
       "    </tr>\n",
       "    <tr>\n",
       "      <th>4</th>\n",
       "      <td>0</td>\n",
       "      <td>0</td>\n",
       "      <td>24</td>\n",
       "      <td>0</td>\n",
       "      <td>0</td>\n",
       "      <td>0</td>\n",
       "    </tr>\n",
       "    <tr>\n",
       "      <th>5</th>\n",
       "      <td>0</td>\n",
       "      <td>81</td>\n",
       "      <td>43</td>\n",
       "      <td>0</td>\n",
       "      <td>0</td>\n",
       "      <td>0</td>\n",
       "    </tr>\n",
       "    <tr>\n",
       "      <th>6</th>\n",
       "      <td>0</td>\n",
       "      <td>7</td>\n",
       "      <td>28</td>\n",
       "      <td>0</td>\n",
       "      <td>0</td>\n",
       "      <td>0</td>\n",
       "    </tr>\n",
       "  </tbody>\n",
       "</table>\n",
       "</div>"
      ],
      "text/plain": [
       "   user_settings_crypto_unlocked  num_contacts  age  countries  plans  brands\n",
       "1                              0             0   31          0      0       0\n",
       "3                              0             0   48          0      0       0\n",
       "4                              0             0   24          0      0       0\n",
       "5                              0            81   43          0      0       0\n",
       "6                              0             7   28          0      0       0"
      ]
     },
     "execution_count": 105,
     "metadata": {},
     "output_type": "execute_result"
    }
   ],
   "source": [
    "# filtering non-crypto users\n",
    "df_x_crypto_not_unlocked = df_x[df_x['user_settings_crypto_unlocked']==0]\n",
    "df_x_crypto_not_unlocked.head()\n"
   ]
  },
  {
   "cell_type": "code",
   "execution_count": 106,
   "metadata": {},
   "outputs": [
    {
     "name": "stdout",
     "output_type": "stream",
     "text": [
      "Mean:  35.76113962657145 \n",
      "Median:  33.0 \n",
      "Mode:  27\n"
     ]
    },
    {
     "data": {
      "image/png": "[encoded data removed]",
      "text/plain": [
       "<Figure size 720x360 with 1 Axes>"
      ]
     },
     "metadata": {
      "needs_background": "light"
     },
     "output_type": "display_data"
    }
   ],
   "source": [
    "# non-crypto users age distribution\n",
    "age = df_x_crypto_not_unlocked['age']\n",
    "\n",
    "mean = age.mean()\n",
    "median = age.median()\n",
    "mode = age.mode()\n",
    "\n",
    "print('Mean: ',mean,'\\nMedian: ',median,'\\nMode: ',mode[0])\n",
    "plt.figure(figsize=(10,5))\n",
    "plt.hist(age, bins=30, color='grey')\n",
    "plt.axvline(mean, color='red', label='Mean')\n",
    "plt.axvline(median, color='yellow', label='Median')\n",
    "plt.axvline(mode[0], color='green', label='Mode')\n",
    "plt.xlabel('Age')\n",
    "plt.ylabel('Users')\n",
    "plt.legend()\n",
    "plt.show()\n"
   ]
  },
  {
   "cell_type": "code",
   "execution_count": 107,
   "metadata": {},
   "outputs": [
    {
     "data": {
      "text/plain": [
       "35.76113962657145"
      ]
     },
     "execution_count": 107,
     "metadata": {},
     "output_type": "execute_result"
    }
   ],
   "source": [
    "# average age of users that have unlocked crypto\n",
    "np.mean(df_x_crypto_not_unlocked['age'])\n"
   ]
  },
  {
   "cell_type": "code",
   "execution_count": 108,
   "metadata": {},
   "outputs": [
    {
     "data": {
      "text/plain": [
       "1    1684\n",
       "0    1351\n",
       "2       9\n",
       "Name: brands, dtype: int64"
      ]
     },
     "execution_count": 108,
     "metadata": {},
     "output_type": "execute_result"
    }
   ],
   "source": [
    "# apple and android users that have unlocked crypto\n",
    "df_x_crypto_unlocked['brands'].value_counts()\n"
   ]
  },
  {
   "cell_type": "code",
   "execution_count": 109,
   "metadata": {},
   "outputs": [
    {
     "data": {
      "text/html": [
       "<div>\n",
       "<style scoped>\n",
       "    .dataframe tbody tr th:only-of-type {\n",
       "        vertical-align: middle;\n",
       "    }\n",
       "\n",
       "    .dataframe tbody tr th {\n",
       "        vertical-align: top;\n",
       "    }\n",
       "\n",
       "    .dataframe thead th {\n",
       "        text-align: right;\n",
       "    }\n",
       "</style>\n",
       "<table border=\"1\" class=\"dataframe\">\n",
       "  <thead>\n",
       "    <tr style=\"text-align: right;\">\n",
       "      <th></th>\n",
       "      <th>engagement_score</th>\n",
       "      <th>birth_year</th>\n",
       "      <th>country</th>\n",
       "      <th>user_settings_crypto_unlocked</th>\n",
       "      <th>plan</th>\n",
       "      <th>num_contacts</th>\n",
       "      <th>brand</th>\n",
       "      <th>age</th>\n",
       "    </tr>\n",
       "  </thead>\n",
       "  <tbody>\n",
       "    <tr>\n",
       "      <th>0</th>\n",
       "      <td>5.791435</td>\n",
       "      <td>1989</td>\n",
       "      <td>PL</td>\n",
       "      <td>1</td>\n",
       "      <td>STANDARD</td>\n",
       "      <td>3</td>\n",
       "      <td>Apple</td>\n",
       "      <td>30</td>\n",
       "    </tr>\n",
       "    <tr>\n",
       "      <th>1</th>\n",
       "      <td>2.306303</td>\n",
       "      <td>1975</td>\n",
       "      <td>GB</td>\n",
       "      <td>0</td>\n",
       "      <td>STANDARD</td>\n",
       "      <td>21</td>\n",
       "      <td>Apple</td>\n",
       "      <td>44</td>\n",
       "    </tr>\n",
       "    <tr>\n",
       "      <th>2</th>\n",
       "      <td>14.978079</td>\n",
       "      <td>1980</td>\n",
       "      <td>FR</td>\n",
       "      <td>0</td>\n",
       "      <td>STANDARD</td>\n",
       "      <td>38</td>\n",
       "      <td>Apple</td>\n",
       "      <td>39</td>\n",
       "    </tr>\n",
       "    <tr>\n",
       "      <th>3</th>\n",
       "      <td>1.952404</td>\n",
       "      <td>1969</td>\n",
       "      <td>GB</td>\n",
       "      <td>0</td>\n",
       "      <td>STANDARD</td>\n",
       "      <td>0</td>\n",
       "      <td>Apple</td>\n",
       "      <td>50</td>\n",
       "    </tr>\n",
       "    <tr>\n",
       "      <th>4</th>\n",
       "      <td>1.600168</td>\n",
       "      <td>1960</td>\n",
       "      <td>GB</td>\n",
       "      <td>1</td>\n",
       "      <td>STANDARD</td>\n",
       "      <td>0</td>\n",
       "      <td>Android</td>\n",
       "      <td>59</td>\n",
       "    </tr>\n",
       "  </tbody>\n",
       "</table>\n",
       "</div>"
      ],
      "text/plain": [
       "   engagement_score  birth_year country  user_settings_crypto_unlocked  \\\n",
       "0          5.791435        1989      PL                              1   \n",
       "1          2.306303        1975      GB                              0   \n",
       "2         14.978079        1980      FR                              0   \n",
       "3          1.952404        1969      GB                              0   \n",
       "4          1.600168        1960      GB                              1   \n",
       "\n",
       "       plan  num_contacts    brand  age  \n",
       "0  STANDARD             3    Apple   30  \n",
       "1  STANDARD            21    Apple   44  \n",
       "2  STANDARD            38    Apple   39  \n",
       "3  STANDARD             0    Apple   50  \n",
       "4  STANDARD             0  Android   59  "
      ]
     },
     "execution_count": 109,
     "metadata": {},
     "output_type": "execute_result"
    }
   ],
   "source": [
    "df_original.head()\n"
   ]
  },
  {
   "cell_type": "code",
   "execution_count": 110,
   "metadata": {},
   "outputs": [
    {
     "data": {
      "text/html": [
       "<div>\n",
       "<style scoped>\n",
       "    .dataframe tbody tr th:only-of-type {\n",
       "        vertical-align: middle;\n",
       "    }\n",
       "\n",
       "    .dataframe tbody tr th {\n",
       "        vertical-align: top;\n",
       "    }\n",
       "\n",
       "    .dataframe thead th {\n",
       "        text-align: right;\n",
       "    }\n",
       "</style>\n",
       "<table border=\"1\" class=\"dataframe\">\n",
       "  <thead>\n",
       "    <tr style=\"text-align: right;\">\n",
       "      <th></th>\n",
       "      <th>engagement_score</th>\n",
       "      <th>birth_year</th>\n",
       "      <th>country</th>\n",
       "      <th>user_settings_crypto_unlocked</th>\n",
       "      <th>plan</th>\n",
       "      <th>num_contacts</th>\n",
       "      <th>brand</th>\n",
       "      <th>age</th>\n",
       "    </tr>\n",
       "  </thead>\n",
       "  <tbody>\n",
       "    <tr>\n",
       "      <th>0</th>\n",
       "      <td>5.791435</td>\n",
       "      <td>1989</td>\n",
       "      <td>PL</td>\n",
       "      <td>1</td>\n",
       "      <td>STANDARD</td>\n",
       "      <td>3</td>\n",
       "      <td>Apple</td>\n",
       "      <td>30</td>\n",
       "    </tr>\n",
       "    <tr>\n",
       "      <th>4</th>\n",
       "      <td>1.600168</td>\n",
       "      <td>1960</td>\n",
       "      <td>GB</td>\n",
       "      <td>1</td>\n",
       "      <td>STANDARD</td>\n",
       "      <td>0</td>\n",
       "      <td>Android</td>\n",
       "      <td>59</td>\n",
       "    </tr>\n",
       "    <tr>\n",
       "      <th>17</th>\n",
       "      <td>11.794987</td>\n",
       "      <td>1991</td>\n",
       "      <td>GB</td>\n",
       "      <td>1</td>\n",
       "      <td>STANDARD</td>\n",
       "      <td>8</td>\n",
       "      <td>Android</td>\n",
       "      <td>28</td>\n",
       "    </tr>\n",
       "    <tr>\n",
       "      <th>20</th>\n",
       "      <td>1.336663</td>\n",
       "      <td>1985</td>\n",
       "      <td>GB</td>\n",
       "      <td>1</td>\n",
       "      <td>PREMIUM</td>\n",
       "      <td>21</td>\n",
       "      <td>Apple</td>\n",
       "      <td>34</td>\n",
       "    </tr>\n",
       "    <tr>\n",
       "      <th>35</th>\n",
       "      <td>11.423368</td>\n",
       "      <td>1982</td>\n",
       "      <td>GG</td>\n",
       "      <td>1</td>\n",
       "      <td>METAL</td>\n",
       "      <td>27</td>\n",
       "      <td>Apple</td>\n",
       "      <td>37</td>\n",
       "    </tr>\n",
       "  </tbody>\n",
       "</table>\n",
       "</div>"
      ],
      "text/plain": [
       "    engagement_score  birth_year country  user_settings_crypto_unlocked  \\\n",
       "0           5.791435        1989      PL                              1   \n",
       "4           1.600168        1960      GB                              1   \n",
       "17         11.794987        1991      GB                              1   \n",
       "20          1.336663        1985      GB                              1   \n",
       "35         11.423368        1982      GG                              1   \n",
       "\n",
       "        plan  num_contacts    brand  age  \n",
       "0   STANDARD             3    Apple   30  \n",
       "4   STANDARD             0  Android   59  \n",
       "17  STANDARD             8  Android   28  \n",
       "20   PREMIUM            21    Apple   34  \n",
       "35     METAL            27    Apple   37  "
      ]
     },
     "execution_count": 110,
     "metadata": {},
     "output_type": "execute_result"
    }
   ],
   "source": [
    "# filtering crypto users from original dataframe\n",
    "df_original_crypto = df_original[df_original['user_settings_crypto_unlocked']==1]\n",
    "df_original_crypto.head()\n"
   ]
  },
  {
   "cell_type": "code",
   "execution_count": 111,
   "metadata": {},
   "outputs": [
    {
     "data": {
      "image/png": "[encoded data removed]",
      "text/plain": [
       "<Figure size 432x288 with 1 Axes>"
      ]
     },
     "metadata": {
      "needs_background": "light"
     },
     "output_type": "display_data"
    }
   ],
   "source": [
    "# crypto users device brand chart\n",
    "fig, ax = plt.subplots()\n",
    "df_original_crypto['brand'].value_counts().plot(ax=ax, kind='bar')\n",
    "plt.show()\n"
   ]
  }
 ],
 "metadata": {
  "kernelspec": {
   "display_name": "Python 3",
   "language": "python",
   "name": "python3"
  },
  "language_info": {
   "codemirror_mode": {
    "name": "ipython",
    "version": 3
   },
   "file_extension": ".py",
   "mimetype": "text/x-python",
   "name": "python",
   "nbconvert_exporter": "python",
   "pygments_lexer": "ipython3",
   "version": "3.7.3"
  }
 },
 "nbformat": 4,
 "nbformat_minor": 2
}
